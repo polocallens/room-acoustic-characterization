{
 "cells": [
  {
   "cell_type": "code",
   "execution_count": 38,
   "metadata": {},
   "outputs": [
    {
     "name": "stderr",
     "output_type": "stream",
     "text": [
      "  0%|          | 0/7995 [00:00<?, ?it/s]"
     ]
    },
    {
     "name": "stdout",
     "output_type": "stream",
     "text": [
      "../hdd/rev_music_ao_july_2/york-guildhall-councilchamber_s2_r3_ir_1_96000/126317.pkl\n"
     ]
    },
    {
     "name": "stderr",
     "output_type": "stream",
     "text": [
      " 13%|█▎        | 1078/7995 [06:58<29:21,  3.93it/s]  "
     ]
    },
    {
     "name": "stdout",
     "output_type": "stream",
     "text": [
      "../hdd/rev_music_ao_july_2/york-guildhall-councilchamber_s2_r3_ir_1_96000/113028.pkl\n"
     ]
    },
    {
     "name": "stderr",
     "output_type": "stream",
     "text": [
      " 17%|█▋        | 1395/7995 [10:41<43:00,  2.56it/s]   "
     ]
    },
    {
     "name": "stdout",
     "output_type": "stream",
     "text": [
      "../hdd/rev_music_ao_july_2/york-guildhall-councilchamber_s2_r3_ir_1_96000/113018.pkl\n"
     ]
    },
    {
     "name": "stderr",
     "output_type": "stream",
     "text": [
      " 18%|█▊        | 1444/7995 [10:41<15:06,  7.23it/s]"
     ]
    },
    {
     "name": "stdout",
     "output_type": "stream",
     "text": [
      "../hdd/rev_music_ao_july_2/york-guildhall-councilchamber_s2_r3_ir_1_96000/140794.pkl\n"
     ]
    },
    {
     "name": "stderr",
     "output_type": "stream",
     "text": [
      " 27%|██▋       | 2153/7995 [24:20<07:45, 12.54it/s]   "
     ]
    },
    {
     "name": "stdout",
     "output_type": "stream",
     "text": [
      "../hdd/rev_music_ao_july_2/york-guildhall-councilchamber_s2_r3_ir_1_96000/126321.pkl\n"
     ]
    },
    {
     "name": "stderr",
     "output_type": "stream",
     "text": [
      " 32%|███▏      | 2550/7995 [26:49<11:18,  8.03it/s]   "
     ]
    },
    {
     "name": "stdout",
     "output_type": "stream",
     "text": [
      "../hdd/rev_music_ao_july_2/york-guildhall-councilchamber_s2_r3_ir_1_96000/126319.pkl\n"
     ]
    },
    {
     "name": "stderr",
     "output_type": "stream",
     "text": [
      " 32%|███▏      | 2579/7995 [26:51<05:15, 17.19it/s]"
     ]
    },
    {
     "name": "stdout",
     "output_type": "stream",
     "text": [
      "../hdd/rev_music_ao_july_2/york-guildhall-councilchamber_s2_r3_ir_1_96000/126318.pkl\n"
     ]
    },
    {
     "name": "stderr",
     "output_type": "stream",
     "text": [
      " 34%|███▍      | 2713/7995 [26:55<01:48, 48.87it/s]"
     ]
    },
    {
     "name": "stdout",
     "output_type": "stream",
     "text": [
      "../hdd/rev_music_ao_july_2/york-guildhall-councilchamber_s2_r3_ir_1_96000/113022.pkl\n"
     ]
    },
    {
     "name": "stderr",
     "output_type": "stream",
     "text": [
      " 43%|████▎     | 3463/7995 [30:05<04:36, 16.39it/s]  "
     ]
    },
    {
     "name": "stdout",
     "output_type": "stream",
     "text": [
      "../hdd/rev_music_ao_july_2/york-guildhall-councilchamber_s2_r3_ir_1_96000/126316.pkl\n"
     ]
    },
    {
     "name": "stderr",
     "output_type": "stream",
     "text": [
      " 51%|█████▏    | 4099/7995 [32:12<6:36:26,  6.11s/it] "
     ]
    },
    {
     "name": "stdout",
     "output_type": "stream",
     "text": [
      "../hdd/rev_music_ao_july_2/york-guildhall-councilchamber_s2_r3_ir_1_96000/126320.pkl\n"
     ]
    },
    {
     "name": "stderr",
     "output_type": "stream",
     "text": [
      " 53%|█████▎    | 4200/7995 [32:14<33:32,  1.89it/s]  "
     ]
    },
    {
     "name": "stdout",
     "output_type": "stream",
     "text": [
      "../hdd/rev_music_ao_july_2/york-guildhall-councilchamber_s2_r3_ir_1_96000/140791.pkl\n"
     ]
    },
    {
     "name": "stderr",
     "output_type": "stream",
     "text": [
      " 55%|█████▌    | 4436/7995 [33:45<03:24, 17.42it/s]  "
     ]
    },
    {
     "name": "stdout",
     "output_type": "stream",
     "text": [
      "../hdd/rev_music_ao_july_2/york-guildhall-councilchamber_s2_r3_ir_1_96000/113027.pkl\n"
     ]
    },
    {
     "name": "stderr",
     "output_type": "stream",
     "text": [
      " 56%|█████▌    | 4439/7995 [33:45<03:13, 18.42it/s]"
     ]
    },
    {
     "name": "stdout",
     "output_type": "stream",
     "text": [
      "../hdd/rev_music_ao_july_2/york-guildhall-councilchamber_s2_r3_ir_1_96000/140790.pkl\n"
     ]
    },
    {
     "name": "stderr",
     "output_type": "stream",
     "text": [
      " 56%|█████▋    | 4499/7995 [33:46<01:34, 36.85it/s]"
     ]
    },
    {
     "name": "stdout",
     "output_type": "stream",
     "text": [
      "../hdd/rev_music_ao_july_2/york-guildhall-councilchamber_s2_r3_ir_1_96000/113017.pkl\n"
     ]
    },
    {
     "name": "stderr",
     "output_type": "stream",
     "text": [
      " 60%|█████▉    | 4762/7995 [35:33<08:27,  6.38it/s]   "
     ]
    },
    {
     "name": "stdout",
     "output_type": "stream",
     "text": [
      "../hdd/rev_music_ao_july_2/york-guildhall-councilchamber_s2_r3_ir_1_96000/113020.pkl\n"
     ]
    },
    {
     "name": "stderr",
     "output_type": "stream",
     "text": [
      " 64%|██████▎   | 5077/7995 [35:40<00:22, 132.53it/s]"
     ]
    },
    {
     "name": "stdout",
     "output_type": "stream",
     "text": [
      "../hdd/rev_music_ao_july_2/york-guildhall-councilchamber_s2_r3_ir_1_96000/113016.pkl\n"
     ]
    },
    {
     "name": "stderr",
     "output_type": "stream",
     "text": [
      " 74%|███████▍  | 5914/7995 [35:46<00:12, 161.49it/s]"
     ]
    },
    {
     "name": "stdout",
     "output_type": "stream",
     "text": [
      "../hdd/rev_music_ao_july_2/york-guildhall-councilchamber_s2_r3_ir_1_96000/113021.pkl\n"
     ]
    },
    {
     "name": "stderr",
     "output_type": "stream",
     "text": [
      " 76%|███████▌  | 6066/7995 [35:48<00:34, 56.73it/s] "
     ]
    },
    {
     "name": "stdout",
     "output_type": "stream",
     "text": [
      "../hdd/rev_music_ao_july_2/york-guildhall-councilchamber_s2_r3_ir_1_96000/098569.pkl\n"
     ]
    },
    {
     "name": "stderr",
     "output_type": "stream",
     "text": [
      " 79%|███████▉  | 6317/7995 [35:50<00:11, 141.35it/s]"
     ]
    },
    {
     "name": "stdout",
     "output_type": "stream",
     "text": [
      "../hdd/rev_music_ao_july_2/york-guildhall-councilchamber_s2_r3_ir_1_96000/098565.pkl\n",
      "../hdd/rev_music_ao_july_2/york-guildhall-councilchamber_s2_r3_ir_1_96000/113026.pkl\n"
     ]
    },
    {
     "name": "stderr",
     "output_type": "stream",
     "text": [
      " 82%|████████▏ | 6555/7995 [35:51<00:08, 160.34it/s]"
     ]
    },
    {
     "name": "stdout",
     "output_type": "stream",
     "text": [
      "../hdd/rev_music_ao_july_2/york-guildhall-councilchamber_s2_r3_ir_1_96000/113024.pkl\n"
     ]
    },
    {
     "name": "stderr",
     "output_type": "stream",
     "text": [
      " 85%|████████▍ | 6759/7995 [36:00<03:03,  6.75it/s] "
     ]
    },
    {
     "name": "stdout",
     "output_type": "stream",
     "text": [
      "../hdd/rev_music_ao_july_2/york-guildhall-councilchamber_s2_r3_ir_1_96000/113023.pkl\n"
     ]
    },
    {
     "name": "stderr",
     "output_type": "stream",
     "text": [
      " 88%|████████▊ | 7074/7995 [37:38<05:26,  2.82it/s]"
     ]
    },
    {
     "name": "stdout",
     "output_type": "stream",
     "text": [
      "../hdd/rev_music_ao_july_2/york-guildhall-councilchamber_s2_r3_ir_1_96000/113025.pkl\n"
     ]
    },
    {
     "name": "stderr",
     "output_type": "stream",
     "text": [
      " 98%|█████████▊| 7842/7995 [38:03<00:00, 153.74it/s]"
     ]
    },
    {
     "name": "stdout",
     "output_type": "stream",
     "text": [
      "../hdd/rev_music_ao_july_2/york-guildhall-councilchamber_s2_r3_ir_1_96000/098567.pkl\n"
     ]
    },
    {
     "name": "stderr",
     "output_type": "stream",
     "text": [
      "100%|██████████| 7995/7995 [38:04<00:00,  3.50it/s] \n"
     ]
    }
   ],
   "source": [
    "##CLEAN DATASET FROM WRONG SIZED SAMPLES\n",
    "\n",
    "import glob\n",
    "import tqdm\n",
    "list_paths = glob.glob('../hdd/rev_music_ao_july_2/york-guildhall-councilchamber_s2_r3_ir_1_96000/*.pkl')\n",
    "\n",
    "list_to_delete = []\n",
    "import os\n",
    "for i in tqdm.tqdm(list_paths):\n",
    "    with open(i,'rb') as f:\n",
    "        file = pickle.load(f)\n",
    "    f.close()\n",
    "    if not file.shape == (40,251):\n",
    "        print(i)\n",
    "        list_to_delete.append(os.path.split(i)[1])\n",
    "        \n",
    "for j in glob.glob('../hdd/rev_music_ao_july_2/*'):\n",
    "    for i in list_to_delete:\n",
    "        os.remove(j + '/' +i)"
   ]
  },
  {
   "cell_type": "code",
   "execution_count": 39,
   "metadata": {},
   "outputs": [
    {
     "data": {
      "text/plain": [
       "['126317.pkl',\n",
       " '113028.pkl',\n",
       " '113018.pkl',\n",
       " '140794.pkl',\n",
       " '126321.pkl',\n",
       " '126319.pkl',\n",
       " '126318.pkl',\n",
       " '113022.pkl',\n",
       " '126316.pkl',\n",
       " '126320.pkl',\n",
       " '140791.pkl',\n",
       " '113027.pkl',\n",
       " '140790.pkl',\n",
       " '113017.pkl',\n",
       " '113020.pkl',\n",
       " '113016.pkl',\n",
       " '113021.pkl',\n",
       " '098569.pkl',\n",
       " '098565.pkl',\n",
       " '113026.pkl',\n",
       " '113024.pkl',\n",
       " '113023.pkl',\n",
       " '113025.pkl',\n",
       " '098567.pkl']"
      ]
     },
     "execution_count": 39,
     "metadata": {},
     "output_type": "execute_result"
    }
   ],
   "source": [
    "list_to_delete"
   ]
  },
  {
   "cell_type": "code",
   "execution_count": 44,
   "metadata": {},
   "outputs": [],
   "source": []
  },
  {
   "cell_type": "code",
   "execution_count": null,
   "metadata": {},
   "outputs": [],
   "source": []
  }
 ],
 "metadata": {
  "kernelspec": {
   "display_name": "Python (kerasenv)",
   "language": "python",
   "name": "kerasenv"
  },
  "language_info": {
   "codemirror_mode": {
    "name": "ipython",
    "version": 3
   },
   "file_extension": ".py",
   "mimetype": "text/x-python",
   "name": "python",
   "nbconvert_exporter": "python",
   "pygments_lexer": "ipython3",
   "version": "3.7.7"
  }
 },
 "nbformat": 4,
 "nbformat_minor": 4
}
