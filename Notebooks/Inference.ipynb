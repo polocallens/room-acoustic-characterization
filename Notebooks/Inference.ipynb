{
 "cells": [
  {
   "cell_type": "code",
   "execution_count": 3,
   "metadata": {},
   "outputs": [
    {
     "name": "stdout",
     "output_type": "stream",
     "text": [
      "/home/pcallens/room-acoustics-characterization\n"
     ]
    }
   ],
   "source": [
    "%cd ..\n",
    "# to be in music-parameters-estimation "
   ]
  },
  {
   "cell_type": "code",
   "execution_count": 4,
   "metadata": {},
   "outputs": [
    {
     "name": "stderr",
     "output_type": "stream",
     "text": [
      "Using TensorFlow backend.\n"
     ]
    }
   ],
   "source": [
    "# Load various imports \n",
    "import pandas as pd\n",
    "import os\n",
    "import librosa\n",
    "import glob\n",
    "import numpy as np\n",
    "import tensorflow as tf\n",
    "import keras.backend.tensorflow_backend as tfback\n",
    "\n",
    "import pickle\n",
    "\n",
    "from keras.optimizers import Adam\n",
    "from keras.utils import np_utils\n",
    "from keras.callbacks import ModelCheckpoint \n",
    "from keras.models import load_model\n",
    "from sklearn import metrics \n",
    "from sklearn.model_selection import train_test_split \n",
    "import datetime\n",
    "\n",
    "from tensorflow.keras.callbacks import TensorBoard\n",
    "#from tensorflow.keras.layers import *\n",
    "#from tensorflow.keras.models import Sequential\n",
    "from datetime import datetime\n",
    "\n",
    "from scipy import stats, signal\n",
    "import acoustics\n",
    "from acoustics.signal import bandpass\n",
    "from acoustics.bands import (_check_band_type, octave_low, octave_high, third_low, third_high)\n",
    "\n",
    "#from keras.callbacks import TensorBoard\n",
    "from time import time\n",
    "from argparse import ArgumentParser\n",
    "\n",
    "from subprocess import call\n",
    "\n",
    "# Custom imports\n",
    "from utils.models import *\n",
    "\n",
    "import pandas as pd\n",
    "from progressbar import progressbar\n",
    "\n",
    "import warnings\n",
    "warnings.filterwarnings(\"ignore\", category=UserWarning, module='librosa')\n",
    "\n",
    "def _get_available_gpus():\n",
    "    \"\"\"Get a list of available gpu devices (formatted as strings).\n",
    "\n",
    "    # Returns\n",
    "        A list of available GPU devices.\n",
    "    \"\"\"\n",
    "    #global _LOCAL_DEVICES\n",
    "    if tfback._LOCAL_DEVICES is None:\n",
    "        devices = tf.config.list_logical_devices()\n",
    "        tfback._LOCAL_DEVICES = [x.name for x in devices]\n",
    "    return [x for x in tfback._LOCAL_DEVICES if 'device:gpu' in x.lower()]\n",
    "\n",
    "tfback._get_available_gpus = _get_available_gpus\n",
    "\n",
    "os.environ[\"CUDA_DEVICE_ORDER\"]=\"PCI_BUS_ID\"\n",
    "os.environ[\"CUDA_VISIBLE_DEVICES\"]=\"0\"\n"
   ]
  },
  {
   "cell_type": "markdown",
   "metadata": {},
   "source": [
    "## 1/ Test with convolved dataset"
   ]
  },
  {
   "cell_type": "code",
   "execution_count": 138,
   "metadata": {},
   "outputs": [],
   "source": [
    "work_dir = 'datasets/final_ds/'\n",
    "\n",
    "rir_test_dir = 'datasets/ACE_adapted/RIR/'\n",
    "audio_test_dir = 'datasets/ACE_adapted/speech/'\n",
    "true_acoustic_values_dir = 'datasets/ACE_adapted/true_acoustic_values_final/' #+ os.path.split(os.path.dirname(rir_test_dir))[1] + '/'\n",
    "mfcc_dir = 'datasets/ACE_adapted/mfcc_8s/0db/mfcc/'\n"
   ]
  },
  {
   "cell_type": "code",
   "execution_count": 5,
   "metadata": {},
   "outputs": [],
   "source": [
    "rir_normed_dir = rir_test_dir.strip('/') + '_sr16000_c_1/'\n"
   ]
  },
  {
   "cell_type": "markdown",
   "metadata": {},
   "source": [
    "### Compute true values"
   ]
  },
  {
   "cell_type": "markdown",
   "metadata": {},
   "source": [
    "### Run convolutions and compute mfcc"
   ]
  },
  {
   "cell_type": "code",
   "execution_count": 5,
   "metadata": {},
   "outputs": [
    {
     "data": {
      "text/plain": [
       "0"
      ]
     },
     "execution_count": 5,
     "metadata": {},
     "output_type": "execute_result"
    }
   ],
   "source": [
    "audio_duration = 15\n",
    "\n",
    "call('python convolute.py -audioDir ' + audio_test_dir + \n",
    "     ' -rirDir ' + rir_test_dir + \n",
    "     ' -outDir ' + mfcc_dir + \n",
    "     ' -trim ' + str(audio_duration) +\n",
    "     ' -outFormat mfcc', shell=True)"
   ]
  },
  {
   "cell_type": "code",
   "execution_count": 6,
   "metadata": {},
   "outputs": [
    {
     "data": {
      "text/plain": [
       "0"
      ]
     },
     "execution_count": 6,
     "metadata": {},
     "output_type": "execute_result"
    }
   ],
   "source": [
    "\n",
    "call('python acoustic_param_ds_maker.py -rirDir ' + rir_normed_dir + \n",
    "     ' -outDir ' + true_acoustic_values_dir + \n",
    "     ' -params all', shell=True)"
   ]
  },
  {
   "cell_type": "code",
   "execution_count": 8,
   "metadata": {},
   "outputs": [
    {
     "data": {
      "text/plain": [
       "0"
      ]
     },
     "execution_count": 8,
     "metadata": {},
     "output_type": "execute_result"
    }
   ],
   "source": [
    "#replace t60 with the old one with 12 outputs\n",
    "call('python acoustic_param_ds_maker.py -rirDir ' + rir_normed_dir + \n",
    "     ' -outDir ' + 'datasets/final_ds/Test/acoustic_values_final/' + \n",
    "     ' -params c50 -bands 500 630 800 1000 1250 1600 2000 2500 3150 4000 5000 6300', shell=True)"
   ]
  },
  {
   "cell_type": "markdown",
   "metadata": {},
   "source": [
    "### Visualize mfcc inputs"
   ]
  },
  {
   "cell_type": "code",
   "execution_count": null,
   "metadata": {},
   "outputs": [],
   "source": [
    "import matplotlib.pyplot as plt\n",
    "from librosa import display \n",
    "\n",
    "with open('datasets/thesis/train/speech/mfcc_0dB/0_5UnderpassValencia/speech-librivox-0007.pkl','rb') as f:\n",
    "    mfcc = pickle.load(f)\n",
    "f.close()\n",
    "\n",
    "sr = 16000\n",
    "plt.figure(figsize=(40, 16))\n",
    "librosa.display.specshow(mfcc[:,:], sr=sr, hop_length= int(0.01*sr), \n",
    "                         x_axis='time', y_axis='mel')\n",
    "plt.colorbar()\n",
    "plt.title('Reverberant audio input mfcc')\n",
    "plt.tight_layout()\n",
    "plt.show()\n"
   ]
  },
  {
   "cell_type": "code",
   "execution_count": 11,
   "metadata": {},
   "outputs": [
    {
     "data": {
      "text/plain": [
       "(40, 1500)"
      ]
     },
     "execution_count": 11,
     "metadata": {},
     "output_type": "execute_result"
    }
   ],
   "source": [
    "mfcc.shape"
   ]
  },
  {
   "cell_type": "markdown",
   "metadata": {},
   "source": [
    "### Visualize target output"
   ]
  },
  {
   "cell_type": "code",
   "execution_count": null,
   "metadata": {},
   "outputs": [],
   "source": [
    "with open('datasets/ACE_adapted/acoustic_values/t60/Meeting_Room_2_1.pkl','rb') as f:\n",
    "    t60 = pickle.load(f)\n",
    "f.close()\n",
    "plt.plot(t60)"
   ]
  },
  {
   "cell_type": "markdown",
   "metadata": {},
   "source": [
    "# Load model, predict and evaluate"
   ]
  },
  {
   "cell_type": "markdown",
   "metadata": {},
   "source": [
    "#### 1. Define model"
   ]
  },
  {
   "cell_type": "code",
   "execution_count": 6,
   "metadata": {},
   "outputs": [],
   "source": [
    "params = {'window_size': 798,\n",
    "              'mfcc_bands': 40,\n",
    "              'n_channels': 1,\n",
    "              'output_size': 6}\n",
    "\n",
    "model  = CRNN2D_largefilters((None,params['mfcc_bands'], \n",
    "                 params['window_size'],\n",
    "                 params['n_channels']), \n",
    "                params['output_size'])"
   ]
  },
  {
   "cell_type": "code",
   "execution_count": 7,
   "metadata": {},
   "outputs": [],
   "source": [
    "model.load_weights(\"thesis_trainings/weights/weights.best.t60_speech_mfcc_randdb_unbalanced.hdf5\")\n",
    "model.compile(loss='mean_squared_error')"
   ]
  },
  {
   "cell_type": "markdown",
   "metadata": {},
   "source": [
    "#### 2. Make predictions"
   ]
  },
  {
   "cell_type": "code",
   "execution_count": 8,
   "metadata": {},
   "outputs": [],
   "source": [
    "\n",
    "\n",
    "def predict(mfcc_dir,true_ac_dir,params):\n",
    "    df = pd.DataFrame(columns = next(os.walk(mfcc_dir))[1],\n",
    "                     index=next(os.walk(mfcc_dir + next(os.walk(mfcc_dir))[1][0]))[2])\n",
    "\n",
    "    for room in progressbar(df.columns):\n",
    "        for track in df.index:\n",
    "            with open(os.path.join(mfcc_dir,room,track),'rb') as f:\n",
    "                X = pickle.load(f)\n",
    "            f.close()\n",
    "\n",
    "            df.loc[track,room] = model.predict(X.reshape((1,params['mfcc_bands'], \n",
    "                                                          params['window_size'],\n",
    "                                                          params['n_channels'])))\n",
    "            \n",
    "    return df"
   ]
  },
  {
   "cell_type": "code",
   "execution_count": 12,
   "metadata": {},
   "outputs": [],
   "source": [
    "\n",
    "ac_param = 't60'\n",
    "audio = 'speech'\n",
    "noise = '0db'\n",
    "out_dir = os.path.join('results','ACE',ac_param+'_'+audio,noise)\n",
    "if not os.path.exists(out_dir):\n",
    "    os.makedirs(out_dir)\n",
    "    \n",
    "mfcc_dir = 'datasets/ACE_adapted/mfcc_8s/0db/mfcc/'\n",
    "true_acoustic_values_dir = 'datasets/ACE_adapted/acoustic_values/'"
   ]
  },
  {
   "cell_type": "code",
   "execution_count": 10,
   "metadata": {},
   "outputs": [
    {
     "name": "stderr",
     "output_type": "stream",
     "text": [
      "100% (14 of 14) |########################| Elapsed Time: 0:00:20 Time:  0:00:20\n"
     ]
    }
   ],
   "source": [
    "preds_df = predict(mfcc_dir,true_acoustic_values_dir,params)"
   ]
  },
  {
   "cell_type": "code",
   "execution_count": 13,
   "metadata": {},
   "outputs": [],
   "source": [
    "with open(os.path.join(out_dir,'preds_df.pkl'),'wb') as f:\n",
    "    pickle.dump(preds_df,f)"
   ]
  },
  {
   "cell_type": "raw",
   "metadata": {},
   "source": [
    "def predict_mean(mfcc_dir,true_ac_dir,params):\n",
    "    df = pd.DataFrame(columns = next(os.walk(mfcc_dir))[1],\n",
    "                     index=next(os.walk(mfcc_dir + next(os.walk(mfcc_dir))[1][0]))[2])\n",
    "\n",
    "    for room in progressbar(df.columns):\n",
    "        for track in df.index:\n",
    "            with open(os.path.join(mfcc_dir,room,track),'rb') as f:\n",
    "                X = pickle.load(f)\n",
    "            f.close()\n",
    "\n",
    "            df.loc[track,room] = model.predict(X.reshape((1,params['mfcc_bands'], \n",
    "                                                          params['window_size'],\n",
    "                                                          params['n_channels']))).mean()\n",
    "            \n",
    "    return df"
   ]
  },
  {
   "cell_type": "raw",
   "metadata": {},
   "source": [
    "preds_df_mean = predict_mean(mfcc_dir,true_acoustic_values_dir,params)"
   ]
  },
  {
   "cell_type": "markdown",
   "metadata": {},
   "source": [
    "#### 3. Make target dataframe"
   ]
  },
  {
   "cell_type": "code",
   "execution_count": 139,
   "metadata": {},
   "outputs": [],
   "source": [
    "target_df = pd.DataFrame(columns = next(os.walk(mfcc_dir))[1],\n",
    "                     index=next(os.walk(true_acoustic_values_dir))[1])\n"
   ]
  },
  {
   "cell_type": "code",
   "execution_count": 140,
   "metadata": {},
   "outputs": [],
   "source": [
    "for param in target_df.index:\n",
    "    for room in target_df.columns:\n",
    "        with open(os.path.join(true_acoustic_values_dir,param,room) + '.pkl','rb') as f:\n",
    "            true_val = pickle.load(f)\n",
    "            target_df.loc[param,room] = true_val\n",
    "        f.close()"
   ]
  },
  {
   "cell_type": "code",
   "execution_count": 141,
   "metadata": {},
   "outputs": [],
   "source": [
    "with open(os.path.join(out_dir,'target_df.pkl'),'wb') as f:\n",
    "    pickle.dump(target_df,f)"
   ]
  },
  {
   "cell_type": "markdown",
   "metadata": {},
   "source": [
    "#### 4. Plot"
   ]
  },
  {
   "cell_type": "raw",
   "metadata": {},
   "source": [
    "import matplotlib.pyplot as plt\n",
    "def plot_room_pred(room_name, preds_df, target_df, bands, param):\n",
    "    track_names = []\n",
    "    \n",
    "    NUM_COLORS = preds_df.shape[0]\n",
    "\n",
    "    cm = plt.get_cmap('hsv')\n",
    "    fig = plt.figure(figsize=(15,10))\n",
    "    ax = fig.add_subplot(111)\n",
    "    ax.set_prop_cycle('color', [cm(1.*i/NUM_COLORS) for i in range(NUM_COLORS)])\n",
    "\n",
    "    \n",
    "    \n",
    "    plt.suptitle(room_name, fontsize=20)\n",
    "    plt.xscale('linear')\n",
    "    \n",
    "    if param == 't60':\n",
    "        plt.ylim(bottom=0,top=4)\n",
    "    if param == 'drr':\n",
    "        plt.ylim(bottom=-20,top=60)\n",
    "    for index, track in preds_df.iterrows():\n",
    "        plt.plot(bands,track[room_name][0])\n",
    "        track_names.append(index)\n",
    "        \n",
    "    plt.plot(bands,target_df.loc[param,room_name], color='red', linewidth = 5)\n",
    "    #plt.legend((track_names))\n",
    "    plt.show()"
   ]
  },
  {
   "cell_type": "raw",
   "metadata": {},
   "source": [
    "#bands = acoustics.bands.third(500,6000)\n",
    "bands = [125.,  250.,  500., 1000., 2000., 4000.]\n",
    "\n",
    "for room in preds_df.columns:\n",
    "    plot_room_pred(room, preds_df, target_df, bands, 't60')"
   ]
  },
  {
   "cell_type": "markdown",
   "metadata": {},
   "source": [
    "#### 5. Compute error"
   ]
  },
  {
   "cell_type": "code",
   "execution_count": 17,
   "metadata": {},
   "outputs": [],
   "source": [
    "import pandas as pd"
   ]
  },
  {
   "cell_type": "code",
   "execution_count": 18,
   "metadata": {},
   "outputs": [
    {
     "ename": "ValueError",
     "evalue": "operands could not be broadcast together with shapes (6,) (4,) ",
     "output_type": "error",
     "traceback": [
      "\u001b[0;31m---------------------------------------------------------------------------\u001b[0m",
      "\u001b[0;31mValueError\u001b[0m                                Traceback (most recent call last)",
      "\u001b[0;32m<ipython-input-18-afede5f75606>\u001b[0m in \u001b[0;36m<module>\u001b[0;34m\u001b[0m\n\u001b[1;32m     12\u001b[0m \u001b[0;34m\u001b[0m\u001b[0m\n\u001b[1;32m     13\u001b[0m \u001b[0;34m\u001b[0m\u001b[0m\n\u001b[0;32m---> 14\u001b[0;31m     \u001b[0merror\u001b[0m\u001b[0;34m.\u001b[0m\u001b[0mappend\u001b[0m\u001b[0;34m(\u001b[0m\u001b[0;36m100\u001b[0m\u001b[0;34m*\u001b[0m\u001b[0;34m(\u001b[0m\u001b[0mpreds_df\u001b[0m\u001b[0;34m[\u001b[0m\u001b[0mstr\u001b[0m\u001b[0;34m(\u001b[0m\u001b[0mcol\u001b[0m\u001b[0;34m)\u001b[0m\u001b[0;34m]\u001b[0m\u001b[0;34m.\u001b[0m\u001b[0mmean\u001b[0m\u001b[0;34m(\u001b[0m\u001b[0;34m)\u001b[0m\u001b[0;34m.\u001b[0m\u001b[0msqueeze\u001b[0m\u001b[0;34m(\u001b[0m\u001b[0;34m)\u001b[0m\u001b[0;34m-\u001b[0m\u001b[0mtrue_arr\u001b[0m\u001b[0;34m)\u001b[0m\u001b[0;34m/\u001b[0m\u001b[0mtrue_arr\u001b[0m\u001b[0;34m)\u001b[0m\u001b[0;34m\u001b[0m\u001b[0;34m\u001b[0m\u001b[0m\n\u001b[0m\u001b[1;32m     15\u001b[0m \u001b[0;34m\u001b[0m\u001b[0m\n\u001b[1;32m     16\u001b[0m \u001b[0mer_df\u001b[0m \u001b[0;34m=\u001b[0m \u001b[0mpd\u001b[0m\u001b[0;34m.\u001b[0m\u001b[0mDataFrame\u001b[0m\u001b[0;34m(\u001b[0m\u001b[0merror\u001b[0m\u001b[0;34m,\u001b[0m\u001b[0mcolumns\u001b[0m\u001b[0;34m=\u001b[0m\u001b[0;34m[\u001b[0m\u001b[0;34m't60'\u001b[0m\u001b[0;34m,\u001b[0m\u001b[0;34m'c50'\u001b[0m\u001b[0;34m,\u001b[0m\u001b[0;34m'c80'\u001b[0m\u001b[0;34m,\u001b[0m\u001b[0;34m'drr'\u001b[0m\u001b[0;34m]\u001b[0m\u001b[0;34m)\u001b[0m\u001b[0;34m\u001b[0m\u001b[0;34m\u001b[0m\u001b[0m\n",
      "\u001b[0;31mValueError\u001b[0m: operands could not be broadcast together with shapes (6,) (4,) "
     ]
    }
   ],
   "source": [
    "#FOR 'ALL' params\n",
    "error = []\n",
    "res_arr = np.empty(len(preds_df))\n",
    "for i,col in enumerate(preds_df.columns):\n",
    "    preds_arr = np.vstack(preds_df[str(col)].values)\n",
    "    t60 = target_df[str(col)].t60.mean()\n",
    "    c50 = target_df[str(col)].c50.mean()\n",
    "    c80 = target_df[str(col)].c80.mean()\n",
    "    drr = target_df[str(col)].drr.mean()\n",
    "    true_arr = np.hstack((t60,c50,c80,drr))\n",
    "\n",
    "    \n",
    "    \n",
    "    error.append(100*(preds_df[str(col)].mean().squeeze()-true_arr)/true_arr)\n",
    "    \n",
    "er_df = pd.DataFrame(error,columns=['t60','c50','c80','drr'])\n",
    "\n",
    "temptitle = os.path.split(out_dir)\n",
    "temptitle2 = os.path.split(temptitle[0])\n",
    "title = temptitle2[1] + '-' +  temptitle[1] + '_noise'\n",
    "\n",
    "bands = acoustics.bands.octave(100,7000)\n",
    "\n",
    "fig, ax = plt.subplots()\n",
    "plt.title(title)\n",
    "er_df.boxplot(color={'medians': 'blue'})\n",
    "ax.set_ylim(-200,200)\n",
    "plt.savefig(os.path.join(out_dir,'err_plot.png'))"
   ]
  },
  {
   "cell_type": "code",
   "execution_count": 19,
   "metadata": {},
   "outputs": [],
   "source": [
    "from sklearn.metrics import mean_absolute_error\n",
    "import matplotlib.pyplot as plt\n"
   ]
  },
  {
   "cell_type": "code",
   "execution_count": 20,
   "metadata": {},
   "outputs": [],
   "source": [
    "res_arr = np.empty(len(preds_df))\n",
    "for i,col in enumerate(preds_df.columns):\n",
    "    preds_arr = np.vstack(preds_df[str(col)].values)\n",
    "    target_arr = np.vstack(len(preds_arr)*[(target_df[str(col)].t60)])\n",
    "    res_arr[i] = mean_absolute_error(target_arr,preds_arr)\n",
    "    "
   ]
  },
  {
   "cell_type": "code",
   "execution_count": 21,
   "metadata": {},
   "outputs": [],
   "source": [
    "def compute_error_percent_perband(param):\n",
    "    error = []#np.empty(size)\n",
    "    #error_abs = np.empty(size)\n",
    "\n",
    "    for i in range(len(preds_df.columns)):\n",
    "        #error_abs[i] = 100*abs((target_df.T.eval(param)[i]-preds_df.mean()[i])/target_df.T.eval(param)[i])\n",
    "        error.append(100*(preds_df.iloc(axis=1)[i].mean().squeeze()-target_df.T.eval(param)[i])/target_df.T.eval(param)[i])\n",
    "    return np.array(error)"
   ]
  },
  {
   "cell_type": "code",
   "execution_count": 22,
   "metadata": {},
   "outputs": [],
   "source": [
    "error_per_bands = compute_error_percent_perband(ac_param)"
   ]
  },
  {
   "cell_type": "code",
   "execution_count": 23,
   "metadata": {},
   "outputs": [],
   "source": [
    "import pandas as pd\n",
    "er_df = pd.DataFrame(error_per_bands,columns=[125, 250, 500, 1000, 2000, 4000])\n"
   ]
  },
  {
   "cell_type": "code",
   "execution_count": 24,
   "metadata": {},
   "outputs": [
    {
     "data": {
      "text/plain": [
       "'t60_speech-0db_noise'"
      ]
     },
     "execution_count": 24,
     "metadata": {},
     "output_type": "execute_result"
    }
   ],
   "source": [
    "temptitle = os.path.split(out_dir)\n",
    "temptitle2 = os.path.split(temptitle[0])\n",
    "title = temptitle2[1] + '-' +  temptitle[1] + '_noise'\n",
    "title"
   ]
  },
  {
   "cell_type": "code",
   "execution_count": 25,
   "metadata": {},
   "outputs": [
    {
     "data": {
      "image/png": "[encoded data removed]",
      "text/plain": [
       "<Figure size 432x288 with 1 Axes>"
      ]
     },
     "metadata": {
      "needs_background": "light"
     },
     "output_type": "display_data"
    }
   ],
   "source": [
    "bands = acoustics.bands.octave(100,7000)\n",
    "\n",
    "fig, ax = plt.subplots()\n",
    "plt.title(title)\n",
    "er_df.boxplot(color={'medians': 'blue'})\n",
    "ax.set_ylim(-200,200)\n",
    "plt.savefig(os.path.join(out_dir,'err_plot.png'))"
   ]
  },
  {
   "cell_type": "code",
   "execution_count": 26,
   "metadata": {},
   "outputs": [],
   "source": [
    "y_pred = np.array([preds_df.iloc(axis=1)[i].mean().squeeze() for i in range(len(preds_df.columns))])\n",
    "y_true =  np.array([target_df.T.eval(ac_param)[i] for i in range(len(preds_df.columns))])"
   ]
  },
  {
   "cell_type": "code",
   "execution_count": 27,
   "metadata": {},
   "outputs": [],
   "source": [
    "np.save(os.path.join(out_dir,'y_true'),y_true)\n",
    "np.save(os.path.join(out_dir,'y_pred'),y_pred)"
   ]
  },
  {
   "cell_type": "code",
   "execution_count": 28,
   "metadata": {},
   "outputs": [],
   "source": [
    "import seaborn\n"
   ]
  },
  {
   "cell_type": "code",
   "execution_count": 34,
   "metadata": {},
   "outputs": [
    {
     "data": {
      "image/png": "[encoded data removed]",
      "text/plain": [
       "<Figure size 576x576 with 1 Axes>"
      ]
     },
     "metadata": {},
     "output_type": "display_data"
    }
   ],
   "source": [
    "\n",
    "\n",
    "\n",
    "fig, ax = plt.subplots(figsize=(8,8))\n",
    "bands = acoustics.bands.octave(100,7000)\n",
    "seaborn.set(palette=seaborn.color_palette(\"bright\",6))\n",
    "\n",
    "ax.set_xlim(0,2)\n",
    "ax.set_ylim(0,2)\n",
    "for i in range(6):\n",
    "    seaborn.scatterplot(y_true[:,i],y_pred[:,i], s= 100)\n",
    "\n",
    "plt.title(ac_param + ' prediction from '+audio+' - '+noise+' noise')\n",
    "plt.xlabel('true [dB]')\n",
    "plt.ylabel('predicted [dB]')\n",
    "plt.legend(bands, title = 'bands mid\\n frequency')\n",
    "\n",
    "seaborn.lineplot([-30,100],[-30,100], palette = seaborn.color_palette(\"dark\"))\n",
    "\n",
    "\n",
    "\n",
    "plt.savefig(os.path.join(out_dir,'scatterplt.png'))"
   ]
  },
  {
   "cell_type": "code",
   "execution_count": null,
   "metadata": {},
   "outputs": [],
   "source": []
  },
  {
   "cell_type": "code",
   "execution_count": null,
   "metadata": {},
   "outputs": [],
   "source": []
  },
  {
   "cell_type": "code",
   "execution_count": null,
   "metadata": {},
   "outputs": [],
   "source": []
  },
  {
   "cell_type": "markdown",
   "metadata": {},
   "source": [
    "## LOAD PREDS"
   ]
  },
  {
   "cell_type": "code",
   "execution_count": 9,
   "metadata": {},
   "outputs": [],
   "source": [
    "from sklearn.metrics import mean_absolute_error, mean_squared_error\n",
    "import seaborn as sns\n",
    "import matplotlib.pyplot as plt"
   ]
  },
  {
   "cell_type": "code",
   "execution_count": null,
   "metadata": {},
   "outputs": [],
   "source": []
  },
  {
   "cell_type": "code",
   "execution_count": 10,
   "metadata": {},
   "outputs": [
    {
     "data": {
      "text/plain": [
       "<function BufferedReader.close>"
      ]
     },
     "execution_count": 10,
     "metadata": {},
     "output_type": "execute_result"
    }
   ],
   "source": [
    "with open('results/OLD_CRAP/t60_speech_1/0db/preds_df.pkl','rb') as f:\n",
    "    preds_df = pickle.load(f).applymap(lambda x: x.squeeze())\n",
    "f.close\n",
    "with open('results/t60_speech/0db/target_df.pkl','rb') as f:\n",
    "    target_df = pickle.load(f)\n",
    "f.close"
   ]
  },
  {
   "cell_type": "markdown",
   "metadata": {},
   "source": [
    "### COMPUTE ERROR"
   ]
  },
  {
   "cell_type": "code",
   "execution_count": 11,
   "metadata": {},
   "outputs": [],
   "source": [
    "err = []\n",
    "for room in preds_df.columns:\n",
    "    for audio in preds_df.T:\n",
    "        target = target_df.T.t60.loc[room]\n",
    "        pred = preds_df.loc[audio,room]\n",
    "        err.append(pred-target)\n"
   ]
  },
  {
   "cell_type": "code",
   "execution_count": 12,
   "metadata": {},
   "outputs": [],
   "source": [
    "err_df = pd.DataFrame(np.array(err), columns=[125, 250, 500, 1000, 2000, 4000])"
   ]
  },
  {
   "cell_type": "code",
   "execution_count": 13,
   "metadata": {},
   "outputs": [
    {
     "data": {
      "text/plain": [
       "[Text(0, 0.5, 'Error [s]'),\n",
       " Text(0.5, 0, 'Frequency band'),\n",
       " Text(0.5, 1.0, 'Error on estimation from speech - 0dB noise SNR ')]"
      ]
     },
     "execution_count": 13,
     "metadata": {},
     "output_type": "execute_result"
    },
    {
     "data": {
      "image/png": "[encoded data removed]",
      "text/plain": [
       "<Figure size 360x1080 with 1 Axes>"
      ]
     },
     "metadata": {
      "needs_background": "light"
     },
     "output_type": "display_data"
    }
   ],
   "source": [
    "plt.figure(figsize=(5,15))\n",
    "sns.set(style=\"whitegrid\")\n",
    "sns.set_style({'axes.grid': True})\n",
    "ax = sns.boxplot(data=err_df,palette=\"Set3\",saturation=0.75,showfliers=False)\n",
    "ax.set(xlabel='Frequency band', ylabel='Error [s]', title = 'Error on estimation from speech - 0dB noise SNR ')"
   ]
  },
  {
   "cell_type": "code",
   "execution_count": 14,
   "metadata": {},
   "outputs": [
    {
     "name": "stdout",
     "output_type": "stream",
     "text": [
      "Root mean square error\n",
      "125 0.8304174638305636\n",
      "250 0.5129135570916526\n",
      "500 0.4992544275608171\n",
      "1000 0.5215489898147386\n",
      "2000 0.49736458026587277\n",
      "4000 0.5600111150758891\n"
     ]
    }
   ],
   "source": [
    "print('Root mean square error')\n",
    "bands = [125, 250, 500, 1000, 2000, 4000]\n",
    "for i in range(6):\n",
    "    print(bands[i],np.sqrt(np.sum(np.array(err)[:,i]**2)/len(err)))"
   ]
  },
  {
   "cell_type": "code",
   "execution_count": 15,
   "metadata": {},
   "outputs": [
    {
     "name": "stdout",
     "output_type": "stream",
     "text": [
      "RMSE\n"
     ]
    },
    {
     "data": {
      "text/plain": [
       "0.582369554522819"
      ]
     },
     "execution_count": 15,
     "metadata": {},
     "output_type": "execute_result"
    }
   ],
   "source": [
    "print('RMSE')\n",
    "flat_err_squared = np.array(err).flatten() ** 2\n",
    "np.sqrt(np.sum(np.array(flat_err_squared))/len(flat_err_squared))"
   ]
  },
  {
   "cell_type": "markdown",
   "metadata": {},
   "source": [
    "#### COMPUTE ERROR PERCENT"
   ]
  },
  {
   "cell_type": "code",
   "execution_count": 16,
   "metadata": {},
   "outputs": [],
   "source": [
    "def mean_absolute_percentage_error(y_true, y_pred): \n",
    "    y_true, y_pred = np.array(y_true), np.array(y_pred)\n",
    "    return np.mean(np.abs((y_true - y_pred) / y_true)) * 100\n",
    "\n",
    "def root_mean_squared_error(y_true,y_pred):\n",
    "    return np.sqrt(mean_squared_error(y_true,y_pred))"
   ]
  },
  {
   "cell_type": "code",
   "execution_count": 17,
   "metadata": {},
   "outputs": [],
   "source": [
    "err_rel = []\n",
    "pred_ = []\n",
    "targ_ = []\n",
    "for room in preds_df.columns:\n",
    "    for audio in preds_df.T:\n",
    "        target = target_df.T.t60.loc[room]\n",
    "        pred = preds_df.loc[audio,room]\n",
    "        err_rel.append(100*((pred-target)/target))\n",
    "        pred_.append(pred)\n",
    "        targ_.append(target)"
   ]
  },
  {
   "cell_type": "code",
   "execution_count": 23,
   "metadata": {},
   "outputs": [],
   "source": [
    "MSE = mean_squared_error(targ_,pred_)"
   ]
  },
  {
   "cell_type": "code",
   "execution_count": 24,
   "metadata": {},
   "outputs": [],
   "source": [
    "MAE = mean_absolute_error(targ_,pred_)"
   ]
  },
  {
   "cell_type": "code",
   "execution_count": 25,
   "metadata": {},
   "outputs": [],
   "source": [
    "MAPE = mean_absolute_percentage_error(targ_,pred_)"
   ]
  },
  {
   "cell_type": "code",
   "execution_count": 26,
   "metadata": {},
   "outputs": [],
   "source": [
    "RMSE = root_mean_squared_error(targ_,pred_)"
   ]
  },
  {
   "cell_type": "code",
   "execution_count": 28,
   "metadata": {},
   "outputs": [
    {
     "data": {
      "text/plain": [
       "array([['MSE', 'MAE', 'MAPE', 'RMSE'],\n",
       "       ['0.3391542980351052', '0.33258952977037504', '67.59920260197808',\n",
       "        '0.5823695545228178']], dtype='<U19')"
      ]
     },
     "execution_count": 28,
     "metadata": {},
     "output_type": "execute_result"
    }
   ],
   "source": [
    "err_file = np.array((['MSE','MAE','MAPE','RMSE'],[MSE,MAE,MAPE,RMSE]))"
   ]
  },
  {
   "cell_type": "code",
   "execution_count": 249,
   "metadata": {},
   "outputs": [
    {
     "name": "stdout",
     "output_type": "stream",
     "text": [
      "Percent mean square error\n",
      "125 99.60745095889044\n",
      "250 139.25168624873646\n",
      "500 127.69533947980227\n",
      "1000 164.3042412691973\n",
      "2000 221.96080357230784\n",
      "4000 227.07688289387696\n"
     ]
    }
   ],
   "source": [
    "print('Percent mean square error')\n",
    "bands = [125, 250, 500, 1000, 2000, 4000]\n",
    "for i in range(6):\n",
    "    print(bands[i],np.sqrt(np.sum(np.array(err_rel)[:,i]**2)/len(err_rel)))"
   ]
  },
  {
   "cell_type": "code",
   "execution_count": 250,
   "metadata": {},
   "outputs": [
    {
     "name": "stdout",
     "output_type": "stream",
     "text": [
      "MAPE\n"
     ]
    },
    {
     "data": {
      "text/plain": [
       "67.59920260197808"
      ]
     },
     "execution_count": 250,
     "metadata": {},
     "output_type": "execute_result"
    }
   ],
   "source": [
    "print('MAPE')\n",
    "flat = (np.array(err_rel).flatten())\n",
    "np.sum(np.abs(flat))/len(flat)"
   ]
  },
  {
   "cell_type": "code",
   "execution_count": 251,
   "metadata": {},
   "outputs": [
    {
     "name": "stdout",
     "output_type": "stream",
     "text": [
      "RMAPE\n"
     ]
    },
    {
     "data": {
      "text/plain": [
       "170.02214017631985"
      ]
     },
     "execution_count": 251,
     "metadata": {},
     "output_type": "execute_result"
    }
   ],
   "source": [
    "print('RMAPE')\n",
    "\n",
    "\n",
    "flat_err_squared = np.array(err_rel).flatten() ** 2\n",
    "np.sqrt(np.sum(np.array(flat_err_squared))/len(flat_err_squared))"
   ]
  },
  {
   "cell_type": "code",
   "execution_count": 252,
   "metadata": {},
   "outputs": [],
   "source": [
    "err_df_pc = pd.DataFrame(np.array(err_rel), columns=[125, 250, 500, 1000, 2000, 4000])"
   ]
  },
  {
   "cell_type": "code",
   "execution_count": 253,
   "metadata": {},
   "outputs": [
    {
     "data": {
      "text/plain": [
       "[Text(0, 0.5, 'MAPE [%]'),\n",
       " Text(0.5, 0, 'Frequency band'),\n",
       " Text(0.5, 1.0, 'MAPE Error on estimation from speech - 0dB noise SNR ')]"
      ]
     },
     "execution_count": 253,
     "metadata": {},
     "output_type": "execute_result"
    },
    {
     "data": {
      "image/png": "[encoded data removed]",
      "text/plain": [
       "<Figure size 360x1080 with 1 Axes>"
      ]
     },
     "metadata": {},
     "output_type": "display_data"
    }
   ],
   "source": [
    "plt.figure(figsize=(5,15))\n",
    "sns.set(style=\"whitegrid\")\n",
    "sns.set_style({'axes.grid': True})\n",
    "ax = sns.boxplot(data=err_df_pc,palette=\"Set3\",saturation=0.75,showfliers=False)\n",
    "ax.set(xlabel='Frequency band', ylabel='MAPE [%]', title = 'MAPE Error on estimation from speech - 0dB noise SNR ')"
   ]
  },
  {
   "cell_type": "code",
   "execution_count": 254,
   "metadata": {},
   "outputs": [
    {
     "data": {
      "image/png": "[encoded data removed]",
      "text/plain": [
       "<Figure size 576x576 with 1 Axes>"
      ]
     },
     "metadata": {},
     "output_type": "display_data"
    }
   ],
   "source": [
    "y_pred = np.array([preds_df.iloc(axis=1)[i].mean().squeeze() for i in range(len(preds_df.columns))])\n",
    "y_true =  np.array([target_df.T.eval(ac_param)[i] for i in range(len(preds_df.columns))])\n",
    "\n",
    "\n",
    "fig, ax = plt.subplots(figsize=(8,8))\n",
    "bands = acoustics.bands.octave(100,7000)\n",
    "seaborn.set(palette=seaborn.color_palette(\"bright\",6))\n",
    "\n",
    "ax.set_xlim(0,2)\n",
    "ax.set_ylim(0,2)\n",
    "for i in range(6):\n",
    "    seaborn.scatterplot(y_true[:,i],y_pred[:,i], s= 100)\n",
    "\n",
    "plt.title(ac_param+ ' prediction from '+audio+' - '+noise+' noise')\n",
    "plt.xlabel('true [dB]')\n",
    "plt.ylabel('predicted [dB]')\n",
    "plt.legend(bands, title = 'bands mid\\n frequency')\n",
    "\n",
    "seaborn.lineplot([-30,100],[-30,100], palette = seaborn.color_palette(\"dark\"))\n",
    "\n",
    "\n",
    "\n",
    "plt.savefig(os.path.join(out_dir,'scatterplt.png'))"
   ]
  },
  {
   "cell_type": "code",
   "execution_count": null,
   "metadata": {},
   "outputs": [],
   "source": []
  },
  {
   "cell_type": "code",
   "execution_count": 59,
   "metadata": {},
   "outputs": [],
   "source": [
    "test = "
   ]
  },
  {
   "cell_type": "code",
   "execution_count": 60,
   "metadata": {},
   "outputs": [
    {
     "data": {
      "text/html": [
       "<div>\n",
       "<style scoped>\n",
       "    .dataframe tbody tr th:only-of-type {\n",
       "        vertical-align: middle;\n",
       "    }\n",
       "\n",
       "    .dataframe tbody tr th {\n",
       "        vertical-align: top;\n",
       "    }\n",
       "\n",
       "    .dataframe thead th {\n",
       "        text-align: right;\n",
       "    }\n",
       "</style>\n",
       "<table border=\"1\" class=\"dataframe\">\n",
       "  <thead>\n",
       "    <tr style=\"text-align: right;\">\n",
       "      <th></th>\n",
       "      <th>Office_2_2</th>\n",
       "      <th>Meeting_Room_1_1</th>\n",
       "      <th>Lecture_Room_1_2</th>\n",
       "      <th>Building_Lobby_1</th>\n",
       "      <th>Building_Lobby_2</th>\n",
       "      <th>Meeting_Room_1_2</th>\n",
       "      <th>Office_1_2</th>\n",
       "      <th>Meeting_Room_2_2</th>\n",
       "      <th>Lecture_Room_2_1</th>\n",
       "      <th>Lecture_Room_1_1</th>\n",
       "      <th>Meeting_Room_2_1</th>\n",
       "      <th>Office_1_1</th>\n",
       "      <th>Office_2_1</th>\n",
       "      <th>Lecture_Room_2_2</th>\n",
       "    </tr>\n",
       "  </thead>\n",
       "  <tbody>\n",
       "    <tr>\n",
       "      <th>drr</th>\n",
       "      <td>-4.896716</td>\n",
       "      <td>-3.081464</td>\n",
       "      <td>-4.974588</td>\n",
       "      <td>-0.237434</td>\n",
       "      <td>-4.898135</td>\n",
       "      <td>-4.840044</td>\n",
       "      <td>-5.115444</td>\n",
       "      <td>0.99044</td>\n",
       "      <td>0.375344</td>\n",
       "      <td>2.57111</td>\n",
       "      <td>-1.115386</td>\n",
       "      <td>-2.170339</td>\n",
       "      <td>-2.535261</td>\n",
       "      <td>-4.536922</td>\n",
       "    </tr>\n",
       "    <tr>\n",
       "      <th>t60</th>\n",
       "      <td>0.390000</td>\n",
       "      <td>0.440000</td>\n",
       "      <td>0.640000</td>\n",
       "      <td>0.650000</td>\n",
       "      <td>0.650000</td>\n",
       "      <td>0.440000</td>\n",
       "      <td>0.340000</td>\n",
       "      <td>0.37000</td>\n",
       "      <td>1.250000</td>\n",
       "      <td>0.64000</td>\n",
       "      <td>0.370000</td>\n",
       "      <td>0.340000</td>\n",
       "      <td>0.390000</td>\n",
       "      <td>1.250000</td>\n",
       "    </tr>\n",
       "  </tbody>\n",
       "</table>\n",
       "</div>"
      ],
      "text/plain": [
       "     Office_2_2  Meeting_Room_1_1  Lecture_Room_1_2  Building_Lobby_1  \\\n",
       "drr   -4.896716         -3.081464         -4.974588         -0.237434   \n",
       "t60    0.390000          0.440000          0.640000          0.650000   \n",
       "\n",
       "     Building_Lobby_2  Meeting_Room_1_2  Office_1_2  Meeting_Room_2_2  \\\n",
       "drr         -4.898135         -4.840044   -5.115444           0.99044   \n",
       "t60          0.650000          0.440000    0.340000           0.37000   \n",
       "\n",
       "     Lecture_Room_2_1  Lecture_Room_1_1  Meeting_Room_2_1  Office_1_1  \\\n",
       "drr          0.375344           2.57111         -1.115386   -2.170339   \n",
       "t60          1.250000           0.64000          0.370000    0.340000   \n",
       "\n",
       "     Office_2_1  Lecture_Room_2_2  \n",
       "drr   -2.535261         -4.536922  \n",
       "t60    0.390000          1.250000  "
      ]
     },
     "execution_count": 60,
     "metadata": {},
     "output_type": "execute_result"
    }
   ],
   "source": [
    "test"
   ]
  },
  {
   "cell_type": "code",
   "execution_count": null,
   "metadata": {},
   "outputs": [],
   "source": []
  },
  {
   "cell_type": "code",
   "execution_count": null,
   "metadata": {},
   "outputs": [],
   "source": []
  },
  {
   "cell_type": "code",
   "execution_count": null,
   "metadata": {},
   "outputs": [],
   "source": []
  },
  {
   "cell_type": "code",
   "execution_count": 67,
   "metadata": {},
   "outputs": [],
   "source": [
    "err = []\n",
    "col = 'h066_MITCampus_StudentLounge_2txts'\n",
    "for pred in preds_df.T.loc[col]:\n",
    "    err.append(pred-target_df.T.t60[col])"
   ]
  },
  {
   "cell_type": "code",
   "execution_count": 68,
   "metadata": {},
   "outputs": [],
   "source": [
    "err = pd.DataFrame(np.array(err),columns=[125, 250, 500, 1000, 2000, 4000])"
   ]
  },
  {
   "cell_type": "code",
   "execution_count": 71,
   "metadata": {},
   "outputs": [
    {
     "data": {
      "text/plain": [
       "<matplotlib.axes._subplots.AxesSubplot at 0x7f8fb9cbb150>"
      ]
     },
     "execution_count": 71,
     "metadata": {},
     "output_type": "execute_result"
    },
    {
     "data": {
      "image/png": "[encoded data removed]",
      "text/plain": [
       "<Figure size 432x288 with 1 Axes>"
      ]
     },
     "metadata": {
      "needs_background": "light"
     },
     "output_type": "display_data"
    }
   ],
   "source": [
    "\n",
    "fig, ax = plt.subplots()\n",
    "    \n",
    "ax.set_ylim(-1,1)\n",
    "\n",
    "err.boxplot()"
   ]
  },
  {
   "cell_type": "code",
   "execution_count": 60,
   "metadata": {},
   "outputs": [
    {
     "data": {
      "image/png": "[encoded data removed]",
      "text/plain": [
       "<Figure size 144x1080 with 1 Axes>"
      ]
     },
     "metadata": {
      "needs_background": "light"
     },
     "output_type": "display_data"
    }
   ],
   "source": [
    "import matplotlib.pyplot as plt\n",
    "\n",
    "plt.figure(figsize=(2,15))\n",
    "plt.grid()\n",
    "B = plt.boxplot(err[:,0],\n",
    "                vert=True,  # vertical box alignment\n",
    "                patch_artist=True,\n",
    "               labels = ['preds'])"
   ]
  },
  {
   "cell_type": "code",
   "execution_count": null,
   "metadata": {},
   "outputs": [],
   "source": []
  },
  {
   "cell_type": "code",
   "execution_count": null,
   "metadata": {},
   "outputs": [],
   "source": []
  },
  {
   "cell_type": "code",
   "execution_count": 322,
   "metadata": {},
   "outputs": [
    {
     "ename": "ValueError",
     "evalue": "Dimensions of labels and X must be compatible",
     "output_type": "error",
     "traceback": [
      "\u001b[0;31m---------------------------------------------------------------------------\u001b[0m",
      "\u001b[0;31mValueError\u001b[0m                                Traceback (most recent call last)",
      "\u001b[0;32m<ipython-input-322-83ea872f02d0>\u001b[0m in \u001b[0;36m<module>\u001b[0;34m\u001b[0m\n\u001b[1;32m      7\u001b[0m                 \u001b[0mvert\u001b[0m\u001b[0;34m=\u001b[0m\u001b[0;32mTrue\u001b[0m\u001b[0;34m,\u001b[0m  \u001b[0;31m# vertical box alignment\u001b[0m\u001b[0;34m\u001b[0m\u001b[0;34m\u001b[0m\u001b[0m\n\u001b[1;32m      8\u001b[0m                 \u001b[0mpatch_artist\u001b[0m\u001b[0;34m=\u001b[0m\u001b[0;32mTrue\u001b[0m\u001b[0;34m,\u001b[0m\u001b[0;34m\u001b[0m\u001b[0;34m\u001b[0m\u001b[0m\n\u001b[0;32m----> 9\u001b[0;31m                labels = ['preds'])\n\u001b[0m",
      "\u001b[0;32m~/miniconda3/envs/kerasenv/lib/python3.7/site-packages/matplotlib/pyplot.py\u001b[0m in \u001b[0;36mboxplot\u001b[0;34m(x, notch, sym, vert, whis, positions, widths, patch_artist, bootstrap, usermedians, conf_intervals, meanline, showmeans, showcaps, showbox, showfliers, boxprops, labels, flierprops, medianprops, meanprops, capprops, whiskerprops, manage_ticks, autorange, zorder, data)\u001b[0m\n\u001b[1;32m   2446\u001b[0m         \u001b[0mwhiskerprops\u001b[0m\u001b[0;34m=\u001b[0m\u001b[0mwhiskerprops\u001b[0m\u001b[0;34m,\u001b[0m \u001b[0mmanage_ticks\u001b[0m\u001b[0;34m=\u001b[0m\u001b[0mmanage_ticks\u001b[0m\u001b[0;34m,\u001b[0m\u001b[0;34m\u001b[0m\u001b[0;34m\u001b[0m\u001b[0m\n\u001b[1;32m   2447\u001b[0m         autorange=autorange, zorder=zorder, **({\"data\": data} if data\n\u001b[0;32m-> 2448\u001b[0;31m         is not None else {}))\n\u001b[0m\u001b[1;32m   2449\u001b[0m \u001b[0;34m\u001b[0m\u001b[0m\n\u001b[1;32m   2450\u001b[0m \u001b[0;34m\u001b[0m\u001b[0m\n",
      "\u001b[0;32m~/miniconda3/envs/kerasenv/lib/python3.7/site-packages/matplotlib/cbook/deprecation.py\u001b[0m in \u001b[0;36mwrapper\u001b[0;34m(*args, **kwargs)\u001b[0m\n\u001b[1;32m    294\u001b[0m                 f\"for the old name will be dropped %(removal)s.\")\n\u001b[1;32m    295\u001b[0m             \u001b[0mkwargs\u001b[0m\u001b[0;34m[\u001b[0m\u001b[0mnew\u001b[0m\u001b[0;34m]\u001b[0m \u001b[0;34m=\u001b[0m \u001b[0mkwargs\u001b[0m\u001b[0;34m.\u001b[0m\u001b[0mpop\u001b[0m\u001b[0;34m(\u001b[0m\u001b[0mold\u001b[0m\u001b[0;34m)\u001b[0m\u001b[0;34m\u001b[0m\u001b[0;34m\u001b[0m\u001b[0m\n\u001b[0;32m--> 296\u001b[0;31m         \u001b[0;32mreturn\u001b[0m \u001b[0mfunc\u001b[0m\u001b[0;34m(\u001b[0m\u001b[0;34m*\u001b[0m\u001b[0margs\u001b[0m\u001b[0;34m,\u001b[0m \u001b[0;34m**\u001b[0m\u001b[0mkwargs\u001b[0m\u001b[0;34m)\u001b[0m\u001b[0;34m\u001b[0m\u001b[0;34m\u001b[0m\u001b[0m\n\u001b[0m\u001b[1;32m    297\u001b[0m \u001b[0;34m\u001b[0m\u001b[0m\n\u001b[1;32m    298\u001b[0m     \u001b[0;31m# wrapper() must keep the same documented signature as func(): if we\u001b[0m\u001b[0;34m\u001b[0m\u001b[0;34m\u001b[0m\u001b[0;34m\u001b[0m\u001b[0m\n",
      "\u001b[0;32m~/miniconda3/envs/kerasenv/lib/python3.7/site-packages/matplotlib/__init__.py\u001b[0m in \u001b[0;36minner\u001b[0;34m(ax, data, *args, **kwargs)\u001b[0m\n\u001b[1;32m   1563\u001b[0m     \u001b[0;32mdef\u001b[0m \u001b[0minner\u001b[0m\u001b[0;34m(\u001b[0m\u001b[0max\u001b[0m\u001b[0;34m,\u001b[0m \u001b[0;34m*\u001b[0m\u001b[0margs\u001b[0m\u001b[0;34m,\u001b[0m \u001b[0mdata\u001b[0m\u001b[0;34m=\u001b[0m\u001b[0;32mNone\u001b[0m\u001b[0;34m,\u001b[0m \u001b[0;34m**\u001b[0m\u001b[0mkwargs\u001b[0m\u001b[0;34m)\u001b[0m\u001b[0;34m:\u001b[0m\u001b[0;34m\u001b[0m\u001b[0;34m\u001b[0m\u001b[0m\n\u001b[1;32m   1564\u001b[0m         \u001b[0;32mif\u001b[0m \u001b[0mdata\u001b[0m \u001b[0;32mis\u001b[0m \u001b[0;32mNone\u001b[0m\u001b[0;34m:\u001b[0m\u001b[0;34m\u001b[0m\u001b[0;34m\u001b[0m\u001b[0m\n\u001b[0;32m-> 1565\u001b[0;31m             \u001b[0;32mreturn\u001b[0m \u001b[0mfunc\u001b[0m\u001b[0;34m(\u001b[0m\u001b[0max\u001b[0m\u001b[0;34m,\u001b[0m \u001b[0;34m*\u001b[0m\u001b[0mmap\u001b[0m\u001b[0;34m(\u001b[0m\u001b[0msanitize_sequence\u001b[0m\u001b[0;34m,\u001b[0m \u001b[0margs\u001b[0m\u001b[0;34m)\u001b[0m\u001b[0;34m,\u001b[0m \u001b[0;34m**\u001b[0m\u001b[0mkwargs\u001b[0m\u001b[0;34m)\u001b[0m\u001b[0;34m\u001b[0m\u001b[0;34m\u001b[0m\u001b[0m\n\u001b[0m\u001b[1;32m   1566\u001b[0m \u001b[0;34m\u001b[0m\u001b[0m\n\u001b[1;32m   1567\u001b[0m         \u001b[0mbound\u001b[0m \u001b[0;34m=\u001b[0m \u001b[0mnew_sig\u001b[0m\u001b[0;34m.\u001b[0m\u001b[0mbind\u001b[0m\u001b[0;34m(\u001b[0m\u001b[0max\u001b[0m\u001b[0;34m,\u001b[0m \u001b[0;34m*\u001b[0m\u001b[0margs\u001b[0m\u001b[0;34m,\u001b[0m \u001b[0;34m**\u001b[0m\u001b[0mkwargs\u001b[0m\u001b[0;34m)\u001b[0m\u001b[0;34m\u001b[0m\u001b[0;34m\u001b[0m\u001b[0m\n",
      "\u001b[0;32m~/miniconda3/envs/kerasenv/lib/python3.7/site-packages/matplotlib/axes/_axes.py\u001b[0m in \u001b[0;36mboxplot\u001b[0;34m(self, x, notch, sym, vert, whis, positions, widths, patch_artist, bootstrap, usermedians, conf_intervals, meanline, showmeans, showcaps, showbox, showfliers, boxprops, labels, flierprops, medianprops, meanprops, capprops, whiskerprops, manage_ticks, autorange, zorder)\u001b[0m\n\u001b[1;32m   3626\u001b[0m \u001b[0;34m\u001b[0m\u001b[0m\n\u001b[1;32m   3627\u001b[0m         bxpstats = cbook.boxplot_stats(x, whis=whis, bootstrap=bootstrap,\n\u001b[0;32m-> 3628\u001b[0;31m                                        labels=labels, autorange=autorange)\n\u001b[0m\u001b[1;32m   3629\u001b[0m         \u001b[0;32mif\u001b[0m \u001b[0mnotch\u001b[0m \u001b[0;32mis\u001b[0m \u001b[0;32mNone\u001b[0m\u001b[0;34m:\u001b[0m\u001b[0;34m\u001b[0m\u001b[0;34m\u001b[0m\u001b[0m\n\u001b[1;32m   3630\u001b[0m             \u001b[0mnotch\u001b[0m \u001b[0;34m=\u001b[0m \u001b[0mrcParams\u001b[0m\u001b[0;34m[\u001b[0m\u001b[0;34m'boxplot.notch'\u001b[0m\u001b[0;34m]\u001b[0m\u001b[0;34m\u001b[0m\u001b[0;34m\u001b[0m\u001b[0m\n",
      "\u001b[0;32m~/miniconda3/envs/kerasenv/lib/python3.7/site-packages/matplotlib/cbook/__init__.py\u001b[0m in \u001b[0;36mboxplot_stats\u001b[0;34m(X, whis, bootstrap, labels, autorange)\u001b[0m\n\u001b[1;32m   1169\u001b[0m         \u001b[0mlabels\u001b[0m \u001b[0;34m=\u001b[0m \u001b[0mitertools\u001b[0m\u001b[0;34m.\u001b[0m\u001b[0mrepeat\u001b[0m\u001b[0;34m(\u001b[0m\u001b[0;32mNone\u001b[0m\u001b[0;34m)\u001b[0m\u001b[0;34m\u001b[0m\u001b[0;34m\u001b[0m\u001b[0m\n\u001b[1;32m   1170\u001b[0m     \u001b[0;32melif\u001b[0m \u001b[0mlen\u001b[0m\u001b[0;34m(\u001b[0m\u001b[0mlabels\u001b[0m\u001b[0;34m)\u001b[0m \u001b[0;34m!=\u001b[0m \u001b[0mncols\u001b[0m\u001b[0;34m:\u001b[0m\u001b[0;34m\u001b[0m\u001b[0;34m\u001b[0m\u001b[0m\n\u001b[0;32m-> 1171\u001b[0;31m         \u001b[0;32mraise\u001b[0m \u001b[0mValueError\u001b[0m\u001b[0;34m(\u001b[0m\u001b[0;34m\"Dimensions of labels and X must be compatible\"\u001b[0m\u001b[0;34m)\u001b[0m\u001b[0;34m\u001b[0m\u001b[0;34m\u001b[0m\u001b[0m\n\u001b[0m\u001b[1;32m   1172\u001b[0m \u001b[0;34m\u001b[0m\u001b[0m\n\u001b[1;32m   1173\u001b[0m     \u001b[0minput_whis\u001b[0m \u001b[0;34m=\u001b[0m \u001b[0mwhis\u001b[0m\u001b[0;34m\u001b[0m\u001b[0;34m\u001b[0m\u001b[0m\n",
      "\u001b[0;31mValueError\u001b[0m: Dimensions of labels and X must be compatible"
     ]
    },
    {
     "data": {
      "image/png": "[encoded data removed]",
      "text/plain": [
       "<Figure size 144x1080 with 1 Axes>"
      ]
     },
     "metadata": {
      "needs_background": "light"
     },
     "output_type": "display_data"
    }
   ],
   "source": [
    "import matplotlib.pyplot as plt\n",
    "\n",
    "plt.figure(figsize=(2,15))\n",
    "plt.ylim(bottom=-200,top=200)\n",
    "plt.grid()\n",
    "B = plt.boxplot(error_per_bands,\n",
    "                vert=True,  # vertical box alignment\n",
    "                patch_artist=True,\n",
    "               labels = ['preds'])"
   ]
  },
  {
   "cell_type": "markdown",
   "metadata": {},
   "source": [
    "#### 5. Compute error on mean results"
   ]
  },
  {
   "cell_type": "code",
   "execution_count": 34,
   "metadata": {},
   "outputs": [
    {
     "data": {
      "text/plain": [
       "0.44096821172816647"
      ]
     },
     "execution_count": 34,
     "metadata": {},
     "output_type": "execute_result"
    }
   ],
   "source": [
    "res_arr_mean = np.empty(len(preds_df_mean))\n",
    "for i,col in enumerate(preds_df_mean.columns):\n",
    "    preds_arr = np.vstack(preds_df_mean[str(col)].values)\n",
    "    target_arr = np.vstack(len(preds_arr)*[(target_df_mean[str(col)].t60)])\n",
    "    res_arr_mean[i] = mean_absolute_error(target_arr,preds_arr)\n",
    "res_arr_mean.mean()\n"
   ]
  },
  {
   "cell_type": "markdown",
   "metadata": {},
   "source": [
    "#### 6. Compute error percent"
   ]
  },
  {
   "cell_type": "code",
   "execution_count": 64,
   "metadata": {},
   "outputs": [
    {
     "data": {
      "text/html": [
       "<div>\n",
       "<style scoped>\n",
       "    .dataframe tbody tr th:only-of-type {\n",
       "        vertical-align: middle;\n",
       "    }\n",
       "\n",
       "    .dataframe tbody tr th {\n",
       "        vertical-align: top;\n",
       "    }\n",
       "\n",
       "    .dataframe thead th {\n",
       "        text-align: right;\n",
       "    }\n",
       "</style>\n",
       "<table border=\"1\" class=\"dataframe\">\n",
       "  <thead>\n",
       "    <tr style=\"text-align: right;\">\n",
       "      <th></th>\n",
       "      <th>h066_MITCampus_StudentLounge_2txts</th>\n",
       "      <th>h073_MITCampus_StudentLounge_2txts</th>\n",
       "      <th>h175_ParkingLot_1txts</th>\n",
       "      <th>LittlefieldLobby</th>\n",
       "      <th>h171_Outside_BikePath_1txts</th>\n",
       "      <th>PacificHall</th>\n",
       "      <th>TijuanaAqueductTunnel</th>\n",
       "      <th>h062_Campground_Dininghall_3txts</th>\n",
       "      <th>RacquetballCourt</th>\n",
       "      <th>h096_Hotel_Ballroom_2txts</th>\n",
       "      <th>...</th>\n",
       "      <th>h270_Hallway_House_1txts</th>\n",
       "      <th>h206_Outside_Forest_1txts</th>\n",
       "      <th>HartwellTavern</th>\n",
       "      <th>h263_Outside_StreetsOfCambridge_1txts</th>\n",
       "      <th>york-guildhall-councilchamber_s2_r3_ir_1_96000</th>\n",
       "      <th>lady-chapel-st-albans-cathedral</th>\n",
       "      <th>h136_SamdwichShop_1txts</th>\n",
       "      <th>h058_Campground_Dininghall_3txts</th>\n",
       "      <th>CastilloDeLosTresReyesDelMorroSalasDeExposicion</th>\n",
       "      <th>PabstBrewery</th>\n",
       "    </tr>\n",
       "  </thead>\n",
       "  <tbody>\n",
       "    <tr>\n",
       "      <th>speech-us-gov-0233.pkl</th>\n",
       "      <td>0.421532</td>\n",
       "      <td>0.525677</td>\n",
       "      <td>0.120117</td>\n",
       "      <td>1.58031</td>\n",
       "      <td>0.335015</td>\n",
       "      <td>1.07933</td>\n",
       "      <td>1.29975</td>\n",
       "      <td>0.273245</td>\n",
       "      <td>1.16683</td>\n",
       "      <td>0.22355</td>\n",
       "      <td>...</td>\n",
       "      <td>0.261622</td>\n",
       "      <td>0.256751</td>\n",
       "      <td>0.382017</td>\n",
       "      <td>0.143107</td>\n",
       "      <td>1.00141</td>\n",
       "      <td>1.16322</td>\n",
       "      <td>0.34015</td>\n",
       "      <td>0.421816</td>\n",
       "      <td>1.45428</td>\n",
       "      <td>0.366855</td>\n",
       "    </tr>\n",
       "    <tr>\n",
       "      <th>speech-librivox-0005.pkl</th>\n",
       "      <td>0.445677</td>\n",
       "      <td>0.762925</td>\n",
       "      <td>0.320085</td>\n",
       "      <td>1.80709</td>\n",
       "      <td>0.412399</td>\n",
       "      <td>0.532076</td>\n",
       "      <td>1.83219</td>\n",
       "      <td>0.595504</td>\n",
       "      <td>1.86024</td>\n",
       "      <td>0.364096</td>\n",
       "      <td>...</td>\n",
       "      <td>0.570685</td>\n",
       "      <td>0.488169</td>\n",
       "      <td>0.4642</td>\n",
       "      <td>0.314424</td>\n",
       "      <td>1.06678</td>\n",
       "      <td>1.84445</td>\n",
       "      <td>0.366082</td>\n",
       "      <td>0.553102</td>\n",
       "      <td>1.89435</td>\n",
       "      <td>0.449616</td>\n",
       "    </tr>\n",
       "    <tr>\n",
       "      <th>speech-librivox-0149.pkl</th>\n",
       "      <td>0.316756</td>\n",
       "      <td>0.520252</td>\n",
       "      <td>0.291705</td>\n",
       "      <td>1.68555</td>\n",
       "      <td>0.34926</td>\n",
       "      <td>0.683185</td>\n",
       "      <td>1.24036</td>\n",
       "      <td>0.317697</td>\n",
       "      <td>1.6883</td>\n",
       "      <td>0.288971</td>\n",
       "      <td>...</td>\n",
       "      <td>0.364947</td>\n",
       "      <td>0.3178</td>\n",
       "      <td>0.447076</td>\n",
       "      <td>0.313121</td>\n",
       "      <td>0.495904</td>\n",
       "      <td>1.10813</td>\n",
       "      <td>0.367455</td>\n",
       "      <td>0.453361</td>\n",
       "      <td>1.22144</td>\n",
       "      <td>0.38368</td>\n",
       "    </tr>\n",
       "    <tr>\n",
       "      <th>speech-us-gov-0079.pkl</th>\n",
       "      <td>0.362691</td>\n",
       "      <td>0.575186</td>\n",
       "      <td>0.340971</td>\n",
       "      <td>1.48277</td>\n",
       "      <td>0.48166</td>\n",
       "      <td>0.309561</td>\n",
       "      <td>1.05828</td>\n",
       "      <td>0.386624</td>\n",
       "      <td>1.33392</td>\n",
       "      <td>0.219466</td>\n",
       "      <td>...</td>\n",
       "      <td>0.453622</td>\n",
       "      <td>0.285492</td>\n",
       "      <td>0.398472</td>\n",
       "      <td>0.437633</td>\n",
       "      <td>0.649086</td>\n",
       "      <td>0.985602</td>\n",
       "      <td>0.365511</td>\n",
       "      <td>0.417139</td>\n",
       "      <td>0.960365</td>\n",
       "      <td>0.414901</td>\n",
       "    </tr>\n",
       "    <tr>\n",
       "      <th>speech-librivox-0150.pkl</th>\n",
       "      <td>0.382135</td>\n",
       "      <td>0.70923</td>\n",
       "      <td>0.37468</td>\n",
       "      <td>1.63231</td>\n",
       "      <td>0.515718</td>\n",
       "      <td>0.572114</td>\n",
       "      <td>0.881145</td>\n",
       "      <td>0.662293</td>\n",
       "      <td>1.20223</td>\n",
       "      <td>0.394978</td>\n",
       "      <td>...</td>\n",
       "      <td>0.435986</td>\n",
       "      <td>0.514198</td>\n",
       "      <td>0.361671</td>\n",
       "      <td>0.548809</td>\n",
       "      <td>0.608054</td>\n",
       "      <td>1.48002</td>\n",
       "      <td>0.434493</td>\n",
       "      <td>0.600069</td>\n",
       "      <td>1.10892</td>\n",
       "      <td>0.532358</td>\n",
       "    </tr>\n",
       "    <tr>\n",
       "      <th>...</th>\n",
       "      <td>...</td>\n",
       "      <td>...</td>\n",
       "      <td>...</td>\n",
       "      <td>...</td>\n",
       "      <td>...</td>\n",
       "      <td>...</td>\n",
       "      <td>...</td>\n",
       "      <td>...</td>\n",
       "      <td>...</td>\n",
       "      <td>...</td>\n",
       "      <td>...</td>\n",
       "      <td>...</td>\n",
       "      <td>...</td>\n",
       "      <td>...</td>\n",
       "      <td>...</td>\n",
       "      <td>...</td>\n",
       "      <td>...</td>\n",
       "      <td>...</td>\n",
       "      <td>...</td>\n",
       "      <td>...</td>\n",
       "      <td>...</td>\n",
       "    </tr>\n",
       "    <tr>\n",
       "      <th>speech-librivox-0029.pkl</th>\n",
       "      <td>0.365881</td>\n",
       "      <td>0.733252</td>\n",
       "      <td>0.157451</td>\n",
       "      <td>1.43692</td>\n",
       "      <td>0.245079</td>\n",
       "      <td>0.812735</td>\n",
       "      <td>1.54005</td>\n",
       "      <td>0.191209</td>\n",
       "      <td>1.36673</td>\n",
       "      <td>0.248466</td>\n",
       "      <td>...</td>\n",
       "      <td>0.513048</td>\n",
       "      <td>0.242929</td>\n",
       "      <td>0.517669</td>\n",
       "      <td>0.218825</td>\n",
       "      <td>0.814563</td>\n",
       "      <td>1.22381</td>\n",
       "      <td>0.24701</td>\n",
       "      <td>0.488947</td>\n",
       "      <td>1.53911</td>\n",
       "      <td>0.60303</td>\n",
       "    </tr>\n",
       "    <tr>\n",
       "      <th>speech-us-gov-0132.pkl</th>\n",
       "      <td>0.218373</td>\n",
       "      <td>0.367244</td>\n",
       "      <td>0.181762</td>\n",
       "      <td>1.4537</td>\n",
       "      <td>0.174627</td>\n",
       "      <td>0.17718</td>\n",
       "      <td>0.951818</td>\n",
       "      <td>0.161474</td>\n",
       "      <td>1.3224</td>\n",
       "      <td>0.1229</td>\n",
       "      <td>...</td>\n",
       "      <td>0.224586</td>\n",
       "      <td>0.202302</td>\n",
       "      <td>0.195234</td>\n",
       "      <td>0.16782</td>\n",
       "      <td>1.05914</td>\n",
       "      <td>1.01181</td>\n",
       "      <td>0.125982</td>\n",
       "      <td>0.273217</td>\n",
       "      <td>1.09111</td>\n",
       "      <td>0.112153</td>\n",
       "    </tr>\n",
       "    <tr>\n",
       "      <th>speech-librivox-0147.pkl</th>\n",
       "      <td>0.551056</td>\n",
       "      <td>0.649256</td>\n",
       "      <td>0.37366</td>\n",
       "      <td>1.45642</td>\n",
       "      <td>0.383911</td>\n",
       "      <td>0.633471</td>\n",
       "      <td>1.30993</td>\n",
       "      <td>0.460834</td>\n",
       "      <td>1.50918</td>\n",
       "      <td>0.466905</td>\n",
       "      <td>...</td>\n",
       "      <td>0.728971</td>\n",
       "      <td>0.416472</td>\n",
       "      <td>0.379216</td>\n",
       "      <td>0.342133</td>\n",
       "      <td>1.06303</td>\n",
       "      <td>1.31944</td>\n",
       "      <td>0.486031</td>\n",
       "      <td>0.411903</td>\n",
       "      <td>1.14617</td>\n",
       "      <td>0.374273</td>\n",
       "    </tr>\n",
       "    <tr>\n",
       "      <th>speech-us-gov-0172.pkl</th>\n",
       "      <td>0.490476</td>\n",
       "      <td>0.559835</td>\n",
       "      <td>0.315212</td>\n",
       "      <td>1.23695</td>\n",
       "      <td>0.324557</td>\n",
       "      <td>0.51719</td>\n",
       "      <td>1.32834</td>\n",
       "      <td>0.367986</td>\n",
       "      <td>1.33192</td>\n",
       "      <td>0.272682</td>\n",
       "      <td>...</td>\n",
       "      <td>0.959834</td>\n",
       "      <td>0.443471</td>\n",
       "      <td>0.526785</td>\n",
       "      <td>0.291761</td>\n",
       "      <td>0.67613</td>\n",
       "      <td>1.12206</td>\n",
       "      <td>0.371919</td>\n",
       "      <td>0.580519</td>\n",
       "      <td>1.16446</td>\n",
       "      <td>0.557888</td>\n",
       "    </tr>\n",
       "    <tr>\n",
       "      <th>speech-librivox-0001.pkl</th>\n",
       "      <td>0.340086</td>\n",
       "      <td>0.581842</td>\n",
       "      <td>0.328559</td>\n",
       "      <td>1.06431</td>\n",
       "      <td>0.274271</td>\n",
       "      <td>0.422414</td>\n",
       "      <td>0.712186</td>\n",
       "      <td>0.328554</td>\n",
       "      <td>2.09305</td>\n",
       "      <td>0.327154</td>\n",
       "      <td>...</td>\n",
       "      <td>0.311982</td>\n",
       "      <td>0.305317</td>\n",
       "      <td>0.366942</td>\n",
       "      <td>0.332982</td>\n",
       "      <td>0.634358</td>\n",
       "      <td>1.04073</td>\n",
       "      <td>0.329547</td>\n",
       "      <td>0.534254</td>\n",
       "      <td>1.04349</td>\n",
       "      <td>0.378964</td>\n",
       "    </tr>\n",
       "  </tbody>\n",
       "</table>\n",
       "<p>100 rows × 100 columns</p>\n",
       "</div>"
      ],
      "text/plain": [
       "                         h066_MITCampus_StudentLounge_2txts  \\\n",
       "speech-us-gov-0233.pkl                             0.421532   \n",
       "speech-librivox-0005.pkl                           0.445677   \n",
       "speech-librivox-0149.pkl                           0.316756   \n",
       "speech-us-gov-0079.pkl                             0.362691   \n",
       "speech-librivox-0150.pkl                           0.382135   \n",
       "...                                                     ...   \n",
       "speech-librivox-0029.pkl                           0.365881   \n",
       "speech-us-gov-0132.pkl                             0.218373   \n",
       "speech-librivox-0147.pkl                           0.551056   \n",
       "speech-us-gov-0172.pkl                             0.490476   \n",
       "speech-librivox-0001.pkl                           0.340086   \n",
       "\n",
       "                         h073_MITCampus_StudentLounge_2txts  \\\n",
       "speech-us-gov-0233.pkl                             0.525677   \n",
       "speech-librivox-0005.pkl                           0.762925   \n",
       "speech-librivox-0149.pkl                           0.520252   \n",
       "speech-us-gov-0079.pkl                             0.575186   \n",
       "speech-librivox-0150.pkl                            0.70923   \n",
       "...                                                     ...   \n",
       "speech-librivox-0029.pkl                           0.733252   \n",
       "speech-us-gov-0132.pkl                             0.367244   \n",
       "speech-librivox-0147.pkl                           0.649256   \n",
       "speech-us-gov-0172.pkl                             0.559835   \n",
       "speech-librivox-0001.pkl                           0.581842   \n",
       "\n",
       "                         h175_ParkingLot_1txts LittlefieldLobby  \\\n",
       "speech-us-gov-0233.pkl                0.120117          1.58031   \n",
       "speech-librivox-0005.pkl              0.320085          1.80709   \n",
       "speech-librivox-0149.pkl              0.291705          1.68555   \n",
       "speech-us-gov-0079.pkl                0.340971          1.48277   \n",
       "speech-librivox-0150.pkl               0.37468          1.63231   \n",
       "...                                        ...              ...   \n",
       "speech-librivox-0029.pkl              0.157451          1.43692   \n",
       "speech-us-gov-0132.pkl                0.181762           1.4537   \n",
       "speech-librivox-0147.pkl               0.37366          1.45642   \n",
       "speech-us-gov-0172.pkl                0.315212          1.23695   \n",
       "speech-librivox-0001.pkl              0.328559          1.06431   \n",
       "\n",
       "                         h171_Outside_BikePath_1txts PacificHall  \\\n",
       "speech-us-gov-0233.pkl                      0.335015     1.07933   \n",
       "speech-librivox-0005.pkl                    0.412399    0.532076   \n",
       "speech-librivox-0149.pkl                     0.34926    0.683185   \n",
       "speech-us-gov-0079.pkl                       0.48166    0.309561   \n",
       "speech-librivox-0150.pkl                    0.515718    0.572114   \n",
       "...                                              ...         ...   \n",
       "speech-librivox-0029.pkl                    0.245079    0.812735   \n",
       "speech-us-gov-0132.pkl                      0.174627     0.17718   \n",
       "speech-librivox-0147.pkl                    0.383911    0.633471   \n",
       "speech-us-gov-0172.pkl                      0.324557     0.51719   \n",
       "speech-librivox-0001.pkl                    0.274271    0.422414   \n",
       "\n",
       "                         TijuanaAqueductTunnel  \\\n",
       "speech-us-gov-0233.pkl                 1.29975   \n",
       "speech-librivox-0005.pkl               1.83219   \n",
       "speech-librivox-0149.pkl               1.24036   \n",
       "speech-us-gov-0079.pkl                 1.05828   \n",
       "speech-librivox-0150.pkl              0.881145   \n",
       "...                                        ...   \n",
       "speech-librivox-0029.pkl               1.54005   \n",
       "speech-us-gov-0132.pkl                0.951818   \n",
       "speech-librivox-0147.pkl               1.30993   \n",
       "speech-us-gov-0172.pkl                 1.32834   \n",
       "speech-librivox-0001.pkl              0.712186   \n",
       "\n",
       "                         h062_Campground_Dininghall_3txts RacquetballCourt  \\\n",
       "speech-us-gov-0233.pkl                           0.273245          1.16683   \n",
       "speech-librivox-0005.pkl                         0.595504          1.86024   \n",
       "speech-librivox-0149.pkl                         0.317697           1.6883   \n",
       "speech-us-gov-0079.pkl                           0.386624          1.33392   \n",
       "speech-librivox-0150.pkl                         0.662293          1.20223   \n",
       "...                                                   ...              ...   \n",
       "speech-librivox-0029.pkl                         0.191209          1.36673   \n",
       "speech-us-gov-0132.pkl                           0.161474           1.3224   \n",
       "speech-librivox-0147.pkl                         0.460834          1.50918   \n",
       "speech-us-gov-0172.pkl                           0.367986          1.33192   \n",
       "speech-librivox-0001.pkl                         0.328554          2.09305   \n",
       "\n",
       "                         h096_Hotel_Ballroom_2txts  ...  \\\n",
       "speech-us-gov-0233.pkl                     0.22355  ...   \n",
       "speech-librivox-0005.pkl                  0.364096  ...   \n",
       "speech-librivox-0149.pkl                  0.288971  ...   \n",
       "speech-us-gov-0079.pkl                    0.219466  ...   \n",
       "speech-librivox-0150.pkl                  0.394978  ...   \n",
       "...                                            ...  ...   \n",
       "speech-librivox-0029.pkl                  0.248466  ...   \n",
       "speech-us-gov-0132.pkl                      0.1229  ...   \n",
       "speech-librivox-0147.pkl                  0.466905  ...   \n",
       "speech-us-gov-0172.pkl                    0.272682  ...   \n",
       "speech-librivox-0001.pkl                  0.327154  ...   \n",
       "\n",
       "                         h270_Hallway_House_1txts h206_Outside_Forest_1txts  \\\n",
       "speech-us-gov-0233.pkl                   0.261622                  0.256751   \n",
       "speech-librivox-0005.pkl                 0.570685                  0.488169   \n",
       "speech-librivox-0149.pkl                 0.364947                    0.3178   \n",
       "speech-us-gov-0079.pkl                   0.453622                  0.285492   \n",
       "speech-librivox-0150.pkl                 0.435986                  0.514198   \n",
       "...                                           ...                       ...   \n",
       "speech-librivox-0029.pkl                 0.513048                  0.242929   \n",
       "speech-us-gov-0132.pkl                   0.224586                  0.202302   \n",
       "speech-librivox-0147.pkl                 0.728971                  0.416472   \n",
       "speech-us-gov-0172.pkl                   0.959834                  0.443471   \n",
       "speech-librivox-0001.pkl                 0.311982                  0.305317   \n",
       "\n",
       "                         HartwellTavern h263_Outside_StreetsOfCambridge_1txts  \\\n",
       "speech-us-gov-0233.pkl         0.382017                              0.143107   \n",
       "speech-librivox-0005.pkl         0.4642                              0.314424   \n",
       "speech-librivox-0149.pkl       0.447076                              0.313121   \n",
       "speech-us-gov-0079.pkl         0.398472                              0.437633   \n",
       "speech-librivox-0150.pkl       0.361671                              0.548809   \n",
       "...                                 ...                                   ...   \n",
       "speech-librivox-0029.pkl       0.517669                              0.218825   \n",
       "speech-us-gov-0132.pkl         0.195234                               0.16782   \n",
       "speech-librivox-0147.pkl       0.379216                              0.342133   \n",
       "speech-us-gov-0172.pkl         0.526785                              0.291761   \n",
       "speech-librivox-0001.pkl       0.366942                              0.332982   \n",
       "\n",
       "                         york-guildhall-councilchamber_s2_r3_ir_1_96000  \\\n",
       "speech-us-gov-0233.pkl                                          1.00141   \n",
       "speech-librivox-0005.pkl                                        1.06678   \n",
       "speech-librivox-0149.pkl                                       0.495904   \n",
       "speech-us-gov-0079.pkl                                         0.649086   \n",
       "speech-librivox-0150.pkl                                       0.608054   \n",
       "...                                                                 ...   \n",
       "speech-librivox-0029.pkl                                       0.814563   \n",
       "speech-us-gov-0132.pkl                                          1.05914   \n",
       "speech-librivox-0147.pkl                                        1.06303   \n",
       "speech-us-gov-0172.pkl                                          0.67613   \n",
       "speech-librivox-0001.pkl                                       0.634358   \n",
       "\n",
       "                         lady-chapel-st-albans-cathedral  \\\n",
       "speech-us-gov-0233.pkl                           1.16322   \n",
       "speech-librivox-0005.pkl                         1.84445   \n",
       "speech-librivox-0149.pkl                         1.10813   \n",
       "speech-us-gov-0079.pkl                          0.985602   \n",
       "speech-librivox-0150.pkl                         1.48002   \n",
       "...                                                  ...   \n",
       "speech-librivox-0029.pkl                         1.22381   \n",
       "speech-us-gov-0132.pkl                           1.01181   \n",
       "speech-librivox-0147.pkl                         1.31944   \n",
       "speech-us-gov-0172.pkl                           1.12206   \n",
       "speech-librivox-0001.pkl                         1.04073   \n",
       "\n",
       "                         h136_SamdwichShop_1txts  \\\n",
       "speech-us-gov-0233.pkl                   0.34015   \n",
       "speech-librivox-0005.pkl                0.366082   \n",
       "speech-librivox-0149.pkl                0.367455   \n",
       "speech-us-gov-0079.pkl                  0.365511   \n",
       "speech-librivox-0150.pkl                0.434493   \n",
       "...                                          ...   \n",
       "speech-librivox-0029.pkl                 0.24701   \n",
       "speech-us-gov-0132.pkl                  0.125982   \n",
       "speech-librivox-0147.pkl                0.486031   \n",
       "speech-us-gov-0172.pkl                  0.371919   \n",
       "speech-librivox-0001.pkl                0.329547   \n",
       "\n",
       "                         h058_Campground_Dininghall_3txts  \\\n",
       "speech-us-gov-0233.pkl                           0.421816   \n",
       "speech-librivox-0005.pkl                         0.553102   \n",
       "speech-librivox-0149.pkl                         0.453361   \n",
       "speech-us-gov-0079.pkl                           0.417139   \n",
       "speech-librivox-0150.pkl                         0.600069   \n",
       "...                                                   ...   \n",
       "speech-librivox-0029.pkl                         0.488947   \n",
       "speech-us-gov-0132.pkl                           0.273217   \n",
       "speech-librivox-0147.pkl                         0.411903   \n",
       "speech-us-gov-0172.pkl                           0.580519   \n",
       "speech-librivox-0001.pkl                         0.534254   \n",
       "\n",
       "                         CastilloDeLosTresReyesDelMorroSalasDeExposicion  \\\n",
       "speech-us-gov-0233.pkl                                           1.45428   \n",
       "speech-librivox-0005.pkl                                         1.89435   \n",
       "speech-librivox-0149.pkl                                         1.22144   \n",
       "speech-us-gov-0079.pkl                                          0.960365   \n",
       "speech-librivox-0150.pkl                                         1.10892   \n",
       "...                                                                  ...   \n",
       "speech-librivox-0029.pkl                                         1.53911   \n",
       "speech-us-gov-0132.pkl                                           1.09111   \n",
       "speech-librivox-0147.pkl                                         1.14617   \n",
       "speech-us-gov-0172.pkl                                           1.16446   \n",
       "speech-librivox-0001.pkl                                         1.04349   \n",
       "\n",
       "                         PabstBrewery  \n",
       "speech-us-gov-0233.pkl       0.366855  \n",
       "speech-librivox-0005.pkl     0.449616  \n",
       "speech-librivox-0149.pkl      0.38368  \n",
       "speech-us-gov-0079.pkl       0.414901  \n",
       "speech-librivox-0150.pkl     0.532358  \n",
       "...                               ...  \n",
       "speech-librivox-0029.pkl      0.60303  \n",
       "speech-us-gov-0132.pkl       0.112153  \n",
       "speech-librivox-0147.pkl     0.374273  \n",
       "speech-us-gov-0172.pkl       0.557888  \n",
       "speech-librivox-0001.pkl     0.378964  \n",
       "\n",
       "[100 rows x 100 columns]"
      ]
     },
     "execution_count": 64,
     "metadata": {},
     "output_type": "execute_result"
    }
   ],
   "source": [
    "preds_df_mean"
   ]
  },
  {
   "cell_type": "code",
   "execution_count": 50,
   "metadata": {},
   "outputs": [],
   "source": [
    "def compute_error_percent(param,size):\n",
    "    error = np.empty(size)\n",
    "    error_abs = np.empty(size)\n",
    "\n",
    "    for i in range(size):\n",
    "        error_abs[i] = 100*abs((target_df_mean.T.eval(param)[i]-preds_df_mean.mean()[i])/target_df_mean.T.eval(param)[i])\n",
    "        error[i] = 100*(target_df_mean.T.eval(param)[i]-preds_df_mean.mean()[i])/target_df_mean.T.eval(param)[i]\n",
    "    return (error)"
   ]
  },
  {
   "cell_type": "code",
   "execution_count": 43,
   "metadata": {},
   "outputs": [
    {
     "name": "stdout",
     "output_type": "stream",
     "text": [
      "[-1.67580818e+01  2.12454717e+01 -1.61390588e+02  5.28048458e+01\n",
      " -2.10766686e+02  4.21311421e+01  1.14328660e+01  2.90738500e+01\n",
      "  4.88181764e+01  2.27552921e+01  4.40380943e+01  4.59540486e+01\n",
      "  3.82372639e+01 -1.84739546e+01 -1.77817758e+01  6.97293837e+01\n",
      "  6.62968677e+01 -1.85430052e+00 -1.40616882e+02  1.31239895e+01\n",
      "  7.53670672e+01  4.41772042e+01  2.30030975e+01  4.75617967e+01\n",
      " -2.87683074e+02  3.60511184e+00  7.49505713e+01  1.91133673e+01\n",
      " -2.08295910e+01  3.40362582e+01 -2.19747129e+01  1.13733674e+01\n",
      " -5.96934857e+02  3.95866214e+01 -6.16031766e+01  3.12426711e+01\n",
      " -5.65058990e+02 -1.04824276e+02 -1.39422408e+02  3.54124451e+01\n",
      "  5.71549463e+01 -5.17064910e+01  1.92155436e+00  9.54284937e+00\n",
      "  5.92898149e+01  5.52108626e-01 -9.33296313e-02  6.23974142e+00\n",
      " -1.14243598e+01  8.43692909e+00 -6.78621627e+01  7.52600603e+01\n",
      " -2.20797832e+01 -1.07278433e+01  2.00592250e+01  4.49230918e+01\n",
      "  3.43707189e+01  5.65174362e+01 -4.76648529e+02 -4.17842981e+02\n",
      "  4.13307423e+01  5.58604424e+01 -1.61307841e+01 -8.32098149e+01\n",
      "  3.41168712e+01 -1.19090341e+01 -4.18935423e+00 -1.56776287e+00\n",
      "  2.82853357e+01  3.18990255e+01 -1.72333862e+02 -2.84421651e+01\n",
      " -9.60199032e+01 -2.82018040e+02  4.24813896e+01 -1.81027642e+02\n",
      "  1.89546896e+01  3.87575942e+01 -1.29599261e+02  3.92116480e+01\n",
      "  3.32889851e+01 -9.35178960e+01 -1.40853475e+02  1.28457465e+01\n",
      "  4.22697651e+01  1.04785258e+01 -1.31312948e+02 -3.17071904e+01\n",
      "  7.33454855e+01  1.13191093e+01  3.02894494e+01 -2.20090131e+02\n",
      " -1.92375857e+00 -3.50434934e+02  1.57341029e+01  5.14263139e+01\n",
      " -6.98313060e+01  1.52758691e+01 -4.67125365e+00  3.12224586e+01]\n"
     ]
    }
   ],
   "source": [
    "error = compute_error_percent('t60',100)\n",
    "print(error)"
   ]
  },
  {
   "cell_type": "code",
   "execution_count": 116,
   "metadata": {},
   "outputs": [],
   "source": [
    "def compute_error(param,size):\n",
    "    error = np.empty(size)\n",
    "    for i in range(size):\n",
    "        error[i] = target_df_ace.T.eval(param)[i]-preds_df_mean.mean()[i]\n",
    "    return(error)"
   ]
  },
  {
   "cell_type": "code",
   "execution_count": 47,
   "metadata": {},
   "outputs": [
    {
     "data": {
      "image/png": "[encoded data removed]",
      "text/plain": [
       "<Figure size 144x1080 with 1 Axes>"
      ]
     },
     "metadata": {
      "needs_background": "light"
     },
     "output_type": "display_data"
    }
   ],
   "source": [
    "import matplotlib.pyplot as plt\n",
    "plt.figure(figsize=(2,15))\n",
    "plt.ylim(bottom=-200,top=200)\n",
    "plt.grid()\n",
    "B = plt.boxplot(error,\n",
    "                vert=True,  # vertical box alignment\n",
    "                patch_artist=True,\n",
    "               labels = ['preds'])"
   ]
  },
  {
   "cell_type": "code",
   "execution_count": 58,
   "metadata": {},
   "outputs": [],
   "source": [
    "def get_box_plot_data(labels, bp):\n",
    "    rows_list = []\n",
    "\n",
    "    for i in range(len(labels)):\n",
    "        dict1 = {}\n",
    "        dict1['label'] = labels[i]\n",
    "        dict1['lower_whisker'] = bp['whiskers'][i*2].get_ydata()[1]\n",
    "        dict1['lower_quartile'] = bp['boxes'][i].get_ydata()[1]\n",
    "        dict1['median'] = bp['medians'][i].get_ydata()[1]\n",
    "        dict1['upper_quartile'] = bp['boxes'][i].get_ydata()[2]\n",
    "        dict1['upper_whisker'] = bp['whiskers'][(i*2)+1].get_ydata()[1]\n",
    "        rows_list.append(dict1)\n",
    "\n",
    "    return pd.DataFrame(rows_list)"
   ]
  },
  {
   "cell_type": "code",
   "execution_count": 61,
   "metadata": {},
   "outputs": [
    {
     "data": {
      "text/html": [
       "<div>\n",
       "<style scoped>\n",
       "    .dataframe tbody tr th:only-of-type {\n",
       "        vertical-align: middle;\n",
       "    }\n",
       "\n",
       "    .dataframe tbody tr th {\n",
       "        vertical-align: top;\n",
       "    }\n",
       "\n",
       "    .dataframe thead th {\n",
       "        text-align: right;\n",
       "    }\n",
       "</style>\n",
       "<table border=\"1\" class=\"dataframe\">\n",
       "  <thead>\n",
       "    <tr style=\"text-align: right;\">\n",
       "      <th></th>\n",
       "      <th>label</th>\n",
       "      <th>lower_whisker</th>\n",
       "      <th>lower_quartile</th>\n",
       "      <th>median</th>\n",
       "      <th>upper_quartile</th>\n",
       "      <th>upper_whisker</th>\n",
       "    </tr>\n",
       "  </thead>\n",
       "  <tbody>\n",
       "    <tr>\n",
       "      <th>0</th>\n",
       "      <td>error</td>\n",
       "      <td>-37.212523</td>\n",
       "      <td>-23.744947</td>\n",
       "      <td>-6.358777</td>\n",
       "      <td>9.415293</td>\n",
       "      <td>24.597802</td>\n",
       "    </tr>\n",
       "  </tbody>\n",
       "</table>\n",
       "</div>"
      ],
      "text/plain": [
       "   label  lower_whisker  lower_quartile    median  upper_quartile  \\\n",
       "0  error     -37.212523      -23.744947 -6.358777        9.415293   \n",
       "\n",
       "   upper_whisker  \n",
       "0      24.597802  "
      ]
     },
     "execution_count": 61,
     "metadata": {},
     "output_type": "execute_result"
    }
   ],
   "source": [
    "get_box_plot_data(['error'],B)"
   ]
  },
  {
   "cell_type": "markdown",
   "metadata": {},
   "source": [
    "## Garbage"
   ]
  },
  {
   "cell_type": "raw",
   "metadata": {},
   "source": [
    "def plot_X_mfccs(X):\n",
    "    plt.figure(figsize=(20, 6))\n",
    "    librosa.display.specshow(X[:,:,0], x_axis='time')\n",
    "    plt.colorbar()\n",
    "    plt.title(' music')\n",
    "    plt.tight_layout()\n",
    "    plt.show()\n",
    "\n",
    "    plt.figure(figsize=(20, 6))\n",
    "    librosa.display.specshow(X[:,:,1], x_axis='time')\n",
    "    plt.colorbar()\n",
    "    plt.title('X rev music')\n",
    "    plt.tight_layout()\n",
    "    plt.show()"
   ]
  },
  {
   "cell_type": "code",
   "execution_count": 9,
   "metadata": {},
   "outputs": [],
   "source": [
    "\n",
    "dataset_folder = output_folder\n",
    "\n",
    "output_size = 13\n",
    "bands = acoustics.bands.third(500,8000)\n",
    "#room_folder = dataset_folder + 'X/'\n"
   ]
  },
  {
   "cell_type": "code",
   "execution_count": 25,
   "metadata": {},
   "outputs": [],
   "source": [
    "def plot_room_prediction(room_preds,room_name,track_names):\n",
    "    bands = [125.,  250.,  500., 1000., 2000., 4000.]#acoustics.bands.third(500,8000)\n",
    "    #plt.title(name)\n",
    "    fig = plt.figure(figsize=(15,10))\n",
    "    \n",
    "    fig.suptitle(room_name, fontsize=20)\n",
    "    plt.xscale('log')\n",
    "    plt.ylim(bottom=0,top=1.5)\n",
    "    for track in room_preds:\n",
    "        plt.plot(bands, track) \n",
    "    plt.legend((track_names))\n",
    "    plt.show(fig)"
   ]
  },
  {
   "cell_type": "code",
   "execution_count": 11,
   "metadata": {},
   "outputs": [],
   "source": [
    "def plot_mean_prediction_vs_true(room_preds,room_true,room_name):\n",
    "    bands = acoustics.bands.third(500,8000)\n",
    "    #plt.title(name)\n",
    "    fig = plt.figure(figsize=(15,10))\n",
    "    \n",
    "    fig.suptitle(room_name, fontsize=20)\n",
    "    plt.xscale('log')\n",
    "    plt.ylim(bottom=0,top=1.5)\n",
    "    mean_preds = np.mean(room_preds,axis=0)\n",
    "    \n",
    "    plt.plot(bands, mean_preds) \n",
    "    #plt.legend((track_names))\n",
    "    #plt.show(fig)\n",
    "    \n",
    "    #fig.suptitle(room_name, fontsize=20)\n",
    "    #plt.xscale('log')\n",
    "    #plt.ylim(bottom=0,top=1.5)\n",
    "    for track in room_true:\n",
    "        plt.plot(bands, track) \n",
    "    plt.legend((['True RT60','mean predicted RT60']))\n",
    "    plt.show(fig)"
   ]
  },
  {
   "cell_type": "code",
   "execution_count": 12,
   "metadata": {},
   "outputs": [],
   "source": [
    "from sklearn.metrics import mean_absolute_error, mean_squared_error"
   ]
  },
  {
   "cell_type": "code",
   "execution_count": 13,
   "metadata": {},
   "outputs": [],
   "source": [
    "def boxplot_room_prediction(room_preds,room_name,track_names):\n",
    "    bands = acoustics.bands.third(500,8000)\n",
    "    #plt.title(name)\n",
    "    fig = plt.figure(figsize=(15,10))\n",
    "    \n",
    "    fig.suptitle(room_name, fontsize=20)\n",
    "    plt.xscale('log')\n",
    "    plt.ylim(bottom=0,top=1.5)\n",
    "    \n",
    "    plt.boxplot(room_preds[:,:],labels = bands)\n",
    "    #for track in room_preds:\n",
    "    #    plt.boxplot(bands,track[:,:]) \n",
    "    plt.legend((track_names))\n",
    "    plt.show(fig)"
   ]
  },
  {
   "cell_type": "raw",
   "metadata": {},
   "source": [
    "def boxplot_room_prediction_test(room_preds,room_true,room_name,track_names):\n",
    "    bands = acoustics.bands.third(500,8000)\n",
    "    #plt.title(name)\n",
    "    fig = plt.figure(figsize=(22,10))\n",
    "    \n",
    "    #for track in room_preds:\n",
    "    #    plt.plot(bands,track) \n",
    "    \n",
    "    #mean_preds = np.mean(room_preds,axis=0)\n",
    "    plt.xscale('log')\n",
    "    plt.plot(bands, room_true) \n",
    "    \n",
    "    \n",
    "    \n",
    "    locs, labels = plt.xticks() \n",
    "    \n",
    "    fig.suptitle(room_name, fontsize=20)\n",
    "    \n",
    "    plt.ylim(bottom=0,top=1.5)\n",
    "    \n",
    "    plt.boxplot(room_preds[:,:],positions = bands, notch = True,labels = bands)\n",
    "    \n",
    "    plt.xticks(locs)\n",
    "    #for track in room_preds:\n",
    "    #    plt.boxplot(bands,track[:,:]) \n",
    "    \n",
    "    plt.legend((track_names))\n",
    "    plt.show(fig)\n",
    "\n",
    "\n",
    "\n",
    "\"\"\"\n",
    "# Plot a line between the means of each dataset\n",
    "plt.plot(x, y, 'b-')\n",
    "\n",
    "# Save the default tick positions, so we can reset them...\n",
    "locs, labels = plt.xticks() \n",
    "\n",
    "plt.boxplot(data, positions=x, notch=True)\n",
    "\n",
    "# Reset the xtick locations.\n",
    "plt.xticks(locs)\n",
    "plt.show()\n",
    "\"\"\""
   ]
  },
  {
   "cell_type": "code",
   "execution_count": 14,
   "metadata": {},
   "outputs": [],
   "source": [
    "def boxplot_room_prediction_test(room_preds,room_true,room_name,track_names):\n",
    "    bands = acoustics.bands.third(500,8000)\n",
    "    #plt.title(name)\n",
    "    fig = plt.figure(figsize=(15,10))\n",
    "    plt.xscale('log')\n",
    "    plt.plot(bands, room_true) \n",
    "    fig.suptitle(room_name, fontsize=20)\n",
    "    \n",
    "    plt.ylim(bottom=0,top=1.5)\n",
    "    locs, labels = plt.xticks()\n",
    "    plt.boxplot(room_preds[:,:],positions = bands)\n",
    "    plt.xticks(locs)\n",
    "    #for track in room_preds:\n",
    "    #    plt.boxplot(bands,track[:,:]) \n",
    "    plt.legend((track_names))\n",
    "    plt.show(fig)"
   ]
  },
  {
   "cell_type": "code",
   "execution_count": 15,
   "metadata": {},
   "outputs": [],
   "source": [
    "def plot_mean_prediction_vs_true_errbar(room_preds,room_true,room_name):\n",
    "    bands = acoustics.bands.third(500,8000)\n",
    "    #plt.title(name)\n",
    "    fig = plt.figure(figsize=(15,10))\n",
    "    \n",
    "    fig.suptitle(room_name, fontsize=20)\n",
    "    plt.xscale('log')\n",
    "    plt.ylim(bottom=0,top=1.5)\n",
    "    mean_preds = np.mean(room_preds,axis=0)\n",
    "    \n",
    "    print(len(room_preds[0]))\n",
    "    \n",
    "    error = []\n",
    "    for i in range(len(room_preds[0])):\n",
    "        #print(room_preds[i,:])\n",
    "        quantiles = np.percentile(room_preds[i,:], [25,75])\n",
    "        quantiles = [np.mean(room_preds[i]) - quantiles[0], quantiles[1] - np.mean(room_preds[i])]\n",
    "        error.append(quantiles)\n",
    "        \n",
    "    error = np.array(error).T\n",
    "    print(f'error ; {error} \\n shape : {error.shape}')\n",
    "    #print(len(error[1]))\n",
    "    plt.errorbar(bands,  mean_preds,yerr=error,capsize=10) \n",
    "    #plt.legend((track_names))\n",
    "    #plt.show(fig)\n",
    "    \n",
    "    #fig.suptitle(room_name, fontsize=20)\n",
    "    #plt.xscale('log')\n",
    "    #plt.ylim(bottom=0,top=1.5)\n",
    "    for track in room_true:\n",
    "        plt.plot(bands, track) \n",
    "    plt.legend((['True RT60','predicted RT60']))\n",
    "    plt.show(fig)"
   ]
  },
  {
   "cell_type": "code",
   "execution_count": null,
   "metadata": {},
   "outputs": [],
   "source": [
    "for room_folder_num in glob.glob(dataset_folder+'X/*'):\n",
    "    room_name = os.path.split(room_folder_num)[1]\n",
    "    track_names = [os.path.split(track)[1] for track in glob.glob(room_folder_num + '/*.pkl')]\n",
    "    #print(f'roomfolder : {room_folder_num}')\n",
    "    \n",
    "    #print(rir_folder)\n",
    "    rir,fs = librosa.load(rir_folder + room_name + '_RIR.wav')\n",
    "    true_t60 = t60_impulse(rir,fs,bands)\n",
    "    #print(f'{room_name} : {true_t60}')\n",
    "    \n",
    "    \n",
    "    plot_mean_prediction_vs_true_errbar(room_prediction(room_folder_num,params),[true_t60],room_name=room_name)\n",
    "\n",
    "\n",
    "    #plot_room_prediction([true_t60], room_name=room_name, track_names = ['True RT60'],show=False)\n",
    "    #print(np.mean(room_prediction(room_folder_num,params),axis=0).shape)\n",
    "    #plot_room_prediction([np.mean(room_prediction(room_folder_num,params),axis=0)],room_name=room_name,track_names='Mean predicted RT60')\n",
    "    #boxplot_room_prediction_test(room_prediction(room_folder_num,params),true_t60,room_name=room_name,track_names=track_names)\n",
    "    \n",
    "    \n",
    "\n",
    "\n",
    "    #plot_mean_prediction_vs_true(room_prediction(room_folder_num,params),[true_t60],room_name=room_name)\n",
    "    boxplot_room_prediction(room_prediction(room_folder_num,params),room_name=room_name,track_names=track_names)\n",
    "    plot_room_prediction(room_prediction(room_folder_num,params),room_name=room_name,track_names=track_names)\n",
    "    "
   ]
  },
  {
   "cell_type": "code",
   "execution_count": null,
   "metadata": {},
   "outputs": [],
   "source": [
    "for room_folder_num in glob.glob(dataset_folder+'X/*'):\n",
    "    room_name = os.path.split(room_folder_num)[1]\n",
    "    track_names = [os.path.split(track)[1] for track in glob.glob(room_folder_num + '/*.pkl')]\n",
    "    print(f'roomfolder : {room_folder_num}')\n",
    "    \n",
    "    #print(room_name)\n",
    "    #rir,fs = librosa.load(rir_folder + room_name + '_RIR.wav')\n",
    "    #true_t60 = t60_impulse(rir,fs,bands)\n",
    "    #print(f'{room_name} : {true_t60}')\n",
    "    \n",
    "    \n",
    "    #plot_mean_prediction_vs_true_errbar(room_prediction(room_folder_num,params),[true_t60],room_name=room_name)\n",
    "\n",
    "\n",
    "    #plot_room_prediction([true_t60], room_name=room_name, track_names = ['True RT60'],show=False)\n",
    "    #print(np.mean(room_prediction(room_folder_num,params),axis=0).shape)\n",
    "    #plot_room_prediction([np.mean(room_prediction(room_folder_num,params),axis=0)],room_name=room_name,track_names='Mean predicted RT60')\n",
    "    #boxplot_room_prediction_test(room_prediction(room_folder_num,params),true_t60,room_name=room_name,track_names=track_names)\n",
    "    \n",
    "    \n",
    "\n",
    "\n",
    "    #plot_mean_prediction_vs_true(room_prediction(room_folder_num,params),[true_t60],room_name=room_name)\n",
    "    boxplot_room_prediction(room_prediction(room_folder_num,params),room_name=room_name,track_names=track_names)\n",
    "    plot_room_prediction(room_prediction(room_folder_num,params),room_name=room_name,track_names=track_names)\n",
    "    "
   ]
  },
  {
   "cell_type": "code",
   "execution_count": null,
   "metadata": {},
   "outputs": [],
   "source": []
  },
  {
   "cell_type": "code",
   "execution_count": 1,
   "metadata": {},
   "outputs": [
    {
     "name": "stdout",
     "output_type": "stream",
     "text": [
      "/home/pcallens/music-parameters-estimation\n"
     ]
    }
   ],
   "source": [
    "%cd .."
   ]
  },
  {
   "cell_type": "code",
   "execution_count": 2,
   "metadata": {},
   "outputs": [],
   "source": [
    "import pandas as pd\n",
    "\n",
    "test = pd.read_csv('predictions.csv',index_col=0)"
   ]
  },
  {
   "cell_type": "code",
   "execution_count": 14,
   "metadata": {},
   "outputs": [
    {
     "data": {
      "text/plain": [
       "'[[3.4497247 3.3226511 2.9863362 2.8020828 2.5715122 2.4585242]]'"
      ]
     },
     "execution_count": 14,
     "metadata": {},
     "output_type": "execute_result"
    }
   ],
   "source": [
    "test.iloc[1,1]"
   ]
  },
  {
   "cell_type": "code",
   "execution_count": null,
   "metadata": {},
   "outputs": [],
   "source": []
  }
 ],
 "metadata": {
  "kernelspec": {
   "display_name": "Python (kerasenv)",
   "language": "python",
   "name": "kerasenv"
  },
  "language_info": {
   "codemirror_mode": {
    "name": "ipython",
    "version": 3
   },
   "file_extension": ".py",
   "mimetype": "text/x-python",
   "name": "python",
   "nbconvert_exporter": "python",
   "pygments_lexer": "ipython3",
   "version": "3.7.7"
  }
 },
 "nbformat": 4,
 "nbformat_minor": 4
}
